{
 "cells": [
  {
   "cell_type": "code",
   "execution_count": 1,
   "id": "f597b3ed-8e42-4878-97ae-5b79e97c5e56",
   "metadata": {},
   "outputs": [],
   "source": [
    "import pandas as pd\n",
    "import numpy as np\n",
    "import re\n",
    "from datetime import timedelta\n",
    "from sklearn.preprocessing import LabelEncoder\n",
    "import matplotlib.pyplot as plt\n",
    "import seaborn as sns"
   ]
  },
  {
   "cell_type": "markdown",
   "id": "7590e829-ea3f-4e8e-a79e-d834bd428c19",
   "metadata": {},
   "source": [
    "### Data understanding."
   ]
  },
  {
   "cell_type": "code",
   "execution_count": 2,
   "id": "bbb1a10f-2361-445a-9c50-2047187a0e57",
   "metadata": {},
   "outputs": [],
   "source": [
    "rtmdf = pd.read_csv('./Data/rt.movie_info.tsv', sep= '\\t', index_col=0)"
   ]
  },
  {
   "cell_type": "code",
   "execution_count": 3,
   "id": "8ac81880-9007-4238-981f-82be62b2f347",
   "metadata": {},
   "outputs": [
    {
     "data": {
      "text/html": [
       "<div>\n",
       "<style scoped>\n",
       "    .dataframe tbody tr th:only-of-type {\n",
       "        vertical-align: middle;\n",
       "    }\n",
       "\n",
       "    .dataframe tbody tr th {\n",
       "        vertical-align: top;\n",
       "    }\n",
       "\n",
       "    .dataframe thead th {\n",
       "        text-align: right;\n",
       "    }\n",
       "</style>\n",
       "<table border=\"1\" class=\"dataframe\">\n",
       "  <thead>\n",
       "    <tr style=\"text-align: right;\">\n",
       "      <th></th>\n",
       "      <th>synopsis</th>\n",
       "      <th>rating</th>\n",
       "      <th>genre</th>\n",
       "      <th>director</th>\n",
       "      <th>writer</th>\n",
       "      <th>theater_date</th>\n",
       "      <th>dvd_date</th>\n",
       "      <th>currency</th>\n",
       "      <th>box_office</th>\n",
       "      <th>runtime</th>\n",
       "      <th>studio</th>\n",
       "    </tr>\n",
       "    <tr>\n",
       "      <th>id</th>\n",
       "      <th></th>\n",
       "      <th></th>\n",
       "      <th></th>\n",
       "      <th></th>\n",
       "      <th></th>\n",
       "      <th></th>\n",
       "      <th></th>\n",
       "      <th></th>\n",
       "      <th></th>\n",
       "      <th></th>\n",
       "      <th></th>\n",
       "    </tr>\n",
       "  </thead>\n",
       "  <tbody>\n",
       "    <tr>\n",
       "      <th>1</th>\n",
       "      <td>This gritty, fast-paced, and innovative police...</td>\n",
       "      <td>R</td>\n",
       "      <td>Action and Adventure|Classics|Drama</td>\n",
       "      <td>William Friedkin</td>\n",
       "      <td>Ernest Tidyman</td>\n",
       "      <td>Oct 9, 1971</td>\n",
       "      <td>Sep 25, 2001</td>\n",
       "      <td>NaN</td>\n",
       "      <td>NaN</td>\n",
       "      <td>104 minutes</td>\n",
       "      <td>NaN</td>\n",
       "    </tr>\n",
       "    <tr>\n",
       "      <th>3</th>\n",
       "      <td>New York City, not-too-distant-future: Eric Pa...</td>\n",
       "      <td>R</td>\n",
       "      <td>Drama|Science Fiction and Fantasy</td>\n",
       "      <td>David Cronenberg</td>\n",
       "      <td>David Cronenberg|Don DeLillo</td>\n",
       "      <td>Aug 17, 2012</td>\n",
       "      <td>Jan 1, 2013</td>\n",
       "      <td>$</td>\n",
       "      <td>600,000</td>\n",
       "      <td>108 minutes</td>\n",
       "      <td>Entertainment One</td>\n",
       "    </tr>\n",
       "    <tr>\n",
       "      <th>5</th>\n",
       "      <td>Illeana Douglas delivers a superb performance ...</td>\n",
       "      <td>R</td>\n",
       "      <td>Drama|Musical and Performing Arts</td>\n",
       "      <td>Allison Anders</td>\n",
       "      <td>Allison Anders</td>\n",
       "      <td>Sep 13, 1996</td>\n",
       "      <td>Apr 18, 2000</td>\n",
       "      <td>NaN</td>\n",
       "      <td>NaN</td>\n",
       "      <td>116 minutes</td>\n",
       "      <td>NaN</td>\n",
       "    </tr>\n",
       "    <tr>\n",
       "      <th>6</th>\n",
       "      <td>Michael Douglas runs afoul of a treacherous su...</td>\n",
       "      <td>R</td>\n",
       "      <td>Drama|Mystery and Suspense</td>\n",
       "      <td>Barry Levinson</td>\n",
       "      <td>Paul Attanasio|Michael Crichton</td>\n",
       "      <td>Dec 9, 1994</td>\n",
       "      <td>Aug 27, 1997</td>\n",
       "      <td>NaN</td>\n",
       "      <td>NaN</td>\n",
       "      <td>128 minutes</td>\n",
       "      <td>NaN</td>\n",
       "    </tr>\n",
       "    <tr>\n",
       "      <th>7</th>\n",
       "      <td>NaN</td>\n",
       "      <td>NR</td>\n",
       "      <td>Drama|Romance</td>\n",
       "      <td>Rodney Bennett</td>\n",
       "      <td>Giles Cooper</td>\n",
       "      <td>NaN</td>\n",
       "      <td>NaN</td>\n",
       "      <td>NaN</td>\n",
       "      <td>NaN</td>\n",
       "      <td>200 minutes</td>\n",
       "      <td>NaN</td>\n",
       "    </tr>\n",
       "  </tbody>\n",
       "</table>\n",
       "</div>"
      ],
      "text/plain": [
       "                                             synopsis rating  \\\n",
       "id                                                             \n",
       "1   This gritty, fast-paced, and innovative police...      R   \n",
       "3   New York City, not-too-distant-future: Eric Pa...      R   \n",
       "5   Illeana Douglas delivers a superb performance ...      R   \n",
       "6   Michael Douglas runs afoul of a treacherous su...      R   \n",
       "7                                                 NaN     NR   \n",
       "\n",
       "                                  genre          director  \\\n",
       "id                                                          \n",
       "1   Action and Adventure|Classics|Drama  William Friedkin   \n",
       "3     Drama|Science Fiction and Fantasy  David Cronenberg   \n",
       "5     Drama|Musical and Performing Arts    Allison Anders   \n",
       "6            Drama|Mystery and Suspense    Barry Levinson   \n",
       "7                         Drama|Romance    Rodney Bennett   \n",
       "\n",
       "                             writer  theater_date      dvd_date currency  \\\n",
       "id                                                                         \n",
       "1                    Ernest Tidyman   Oct 9, 1971  Sep 25, 2001      NaN   \n",
       "3      David Cronenberg|Don DeLillo  Aug 17, 2012   Jan 1, 2013        $   \n",
       "5                    Allison Anders  Sep 13, 1996  Apr 18, 2000      NaN   \n",
       "6   Paul Attanasio|Michael Crichton   Dec 9, 1994  Aug 27, 1997      NaN   \n",
       "7                      Giles Cooper           NaN           NaN      NaN   \n",
       "\n",
       "   box_office      runtime             studio  \n",
       "id                                             \n",
       "1         NaN  104 minutes                NaN  \n",
       "3     600,000  108 minutes  Entertainment One  \n",
       "5         NaN  116 minutes                NaN  \n",
       "6         NaN  128 minutes                NaN  \n",
       "7         NaN  200 minutes                NaN  "
      ]
     },
     "execution_count": 3,
     "metadata": {},
     "output_type": "execute_result"
    }
   ],
   "source": [
    "rtmdf.head()"
   ]
  },
  {
   "cell_type": "markdown",
   "id": "4cab1686-48de-4187-9b6b-6a6b549d997a",
   "metadata": {},
   "source": [
    "### Data cleaning."
   ]
  },
  {
   "cell_type": "markdown",
   "id": "bf50ea89-7dbb-4b11-b939-4335eaf59e91",
   "metadata": {},
   "source": [
    "Here we use various codes to check for duplicates, missing values, validity and then either filling in missing values or droppng columns or rows."
   ]
  },
  {
   "cell_type": "markdown",
   "id": "cf872743-d9c1-4f96-9c83-7dea3d2023f7",
   "metadata": {},
   "source": [
    "starting by checking if id column has unique values to know if it can be used to reference rows and also if there any missing values."
   ]
  },
  {
   "cell_type": "code",
   "execution_count": 4,
   "id": "9f36f370-c41a-4683-9bf3-1343cf1ad2c1",
   "metadata": {},
   "outputs": [
    {
     "data": {
      "text/plain": [
       "synopsis         3.974359\n",
       "rating           0.192308\n",
       "genre            0.512821\n",
       "director        12.756410\n",
       "writer          28.782051\n",
       "theater_date    23.012821\n",
       "dvd_date        23.012821\n",
       "currency        78.205128\n",
       "box_office      78.205128\n",
       "runtime          1.923077\n",
       "studio          68.333333\n",
       "dtype: float64"
      ]
     },
     "execution_count": 4,
     "metadata": {},
     "output_type": "execute_result"
    }
   ],
   "source": [
    "rtmdf.isnull().sum() / len(rtmdf) *  100"
   ]
  },
  {
   "cell_type": "code",
   "execution_count": 5,
   "id": "d7ec0959-0bb7-4949-87bc-f808f5c5e15b",
   "metadata": {},
   "outputs": [],
   "source": [
    "def drop_columns_with_missing_values(df, threshold=0.30):\n",
    "    # Calculate the percentage of missing values for each column\n",
    "    missing_percent = df.isnull().mean()\n",
    "    \n",
    "    # Identify columns with missing values above the threshold\n",
    "    columns_to_drop = missing_percent[missing_percent >= threshold].index\n",
    "    \n",
    "    # Drop the columns\n",
    "    cleaned_df = df.drop(columns=columns_to_drop)\n",
    "    \n",
    "    return cleaned_df\n",
    "\n",
    "rtmdf = drop_columns_with_missing_values(rtmdf, threshold=0.30)"
   ]
  },
  {
   "cell_type": "code",
   "execution_count": 6,
   "id": "68ccd155-d351-4cec-aa80-4a38cee3749c",
   "metadata": {},
   "outputs": [],
   "source": [
    "import pandas as pd\n",
    "\n",
    "def impute_missing_values(df):\n",
    "    # Separate columns by data type\n",
    "    numeric_cols = df.select_dtypes(include=['float64', 'int64']).columns\n",
    "    categorical_cols = df.select_dtypes(include=['object']).columns\n",
    "    \n",
    "    # Impute numeric columns with mean\n",
    "    for col in numeric_cols:\n",
    "        df[col] = df[col].fillna(df[col].mean())\n",
    "    \n",
    "    # Impute categorical columns with mode\n",
    "    for col in categorical_cols:\n",
    "        df[col] = df[col].fillna(df[col].mode()[0])\n",
    "    \n",
    "    return df\n",
    "rtmdf = impute_missing_values(rtmdf)"
   ]
  },
  {
   "cell_type": "code",
   "execution_count": 7,
   "id": "5f7f4b91-2f9a-4d73-a641-8fb707409e1f",
   "metadata": {},
   "outputs": [
    {
     "data": {
      "text/plain": [
       "synopsis        0.0\n",
       "rating          0.0\n",
       "genre           0.0\n",
       "director        0.0\n",
       "writer          0.0\n",
       "theater_date    0.0\n",
       "dvd_date        0.0\n",
       "runtime         0.0\n",
       "dtype: float64"
      ]
     },
     "execution_count": 7,
     "metadata": {},
     "output_type": "execute_result"
    }
   ],
   "source": [
    "rtmdf.isnull().sum() / len(rtmdf) *  100"
   ]
  },
  {
   "cell_type": "code",
   "execution_count": 8,
   "id": "cce7d2a7-d00f-4ba4-898b-2c359c3e3f20",
   "metadata": {},
   "outputs": [],
   "source": [
    "rtmdf = rtmdf.drop(columns='synopsis')"
   ]
  },
  {
   "cell_type": "code",
   "execution_count": 9,
   "id": "b896f5cb-9cd4-42d8-9528-a55db414dd96",
   "metadata": {},
   "outputs": [],
   "source": [
    "# Replace 'NR' with 'Not Rated' and 'NC17' with 'NC-17'\n",
    "rtmdf['rating'] = rtmdf['rating'].replace({'NR': 'Not Rated', 'NC17': 'NC-17'})"
   ]
  },
  {
   "cell_type": "code",
   "execution_count": 10,
   "id": "b6dd87af-bc7e-49b2-ae04-69966ba41732",
   "metadata": {},
   "outputs": [
    {
     "data": {
      "text/plain": [
       "rating\n",
       "R            524\n",
       "Not Rated    503\n",
       "PG           240\n",
       "PG-13        235\n",
       "G             57\n",
       "NC-17          1\n",
       "Name: count, dtype: int64"
      ]
     },
     "execution_count": 10,
     "metadata": {},
     "output_type": "execute_result"
    }
   ],
   "source": [
    "rtmdf['rating'].value_counts()"
   ]
  },
  {
   "cell_type": "code",
   "execution_count": 11,
   "id": "e3fd513b-706e-4e2b-b36b-07dca584ece3",
   "metadata": {},
   "outputs": [],
   "source": [
    "# Convert 'theater_date' to datetime format\n",
    "rtmdf['theater_date'] = pd.to_datetime(rtmdf['theater_date'])"
   ]
  },
  {
   "cell_type": "code",
   "execution_count": 12,
   "id": "a4524836-1f6d-4298-b13d-1b78f7e21725",
   "metadata": {},
   "outputs": [
    {
     "data": {
      "text/plain": [
       "id\n",
       "1   1971-10-09\n",
       "3   2012-08-17\n",
       "5   1996-09-13\n",
       "6   1994-12-09\n",
       "7   1987-01-01\n",
       "Name: theater_date, dtype: datetime64[ns]"
      ]
     },
     "execution_count": 12,
     "metadata": {},
     "output_type": "execute_result"
    }
   ],
   "source": [
    "rtmdf['theater_date'].head()"
   ]
  },
  {
   "cell_type": "code",
   "execution_count": 13,
   "id": "8af7ae51-2898-4538-92ff-e7fcded30b1d",
   "metadata": {},
   "outputs": [],
   "source": [
    "# First we replace and with pipe symbol then split the genres using pipe symbol delimeter.\n",
    "unique_genres = rtmdf['genre'].str.replace(' and ', '|').str.split('|').explode().unique()\n",
    "\n",
    "# Iterate over the unique genres and create new binary columns.\n",
    "for genre in unique_genres:\n",
    "    rtmdf[f'is_{genre}'] = rtmdf['genre'].str.contains(genre).astype(int)"
   ]
  },
  {
   "cell_type": "code",
   "execution_count": 14,
   "id": "f613e991-fede-4243-963d-0a97b6fc5eba",
   "metadata": {},
   "outputs": [
    {
     "data": {
      "text/plain": [
       "Index(['rating', 'genre', 'director', 'writer', 'theater_date', 'dvd_date',\n",
       "       'runtime', 'is_Action', 'is_Adventure', 'is_Classics', 'is_Drama',\n",
       "       'is_Science Fiction', 'is_Fantasy', 'is_Musical', 'is_Performing Arts',\n",
       "       'is_Mystery', 'is_Suspense', 'is_Romance', 'is_Kids', 'is_Family',\n",
       "       'is_Comedy', 'is_Documentary', 'is_Special Interest', 'is_Art House',\n",
       "       'is_International', 'is_Horror', 'is_Western', 'is_Television',\n",
       "       'is_Sports', 'is_Fitness', 'is_Animation', 'is_Faith',\n",
       "       'is_Spirituality', 'is_Cult Movies', 'is_Anime', 'is_Manga', 'is_Gay',\n",
       "       'is_Lesbian'],\n",
       "      dtype='object')"
      ]
     },
     "execution_count": 14,
     "metadata": {},
     "output_type": "execute_result"
    }
   ],
   "source": [
    "rtmdf.columns"
   ]
  },
  {
   "cell_type": "code",
   "execution_count": 15,
   "id": "b6b6bfc6-79ea-4a42-b5eb-82dcc75a6e8e",
   "metadata": {},
   "outputs": [
    {
     "data": {
      "text/plain": [
       "id\n",
       "1   2001-09-25\n",
       "3   2013-01-01\n",
       "5   2000-04-18\n",
       "6   1997-08-27\n",
       "7   2004-06-01\n",
       "Name: dvd_date, dtype: datetime64[ns]"
      ]
     },
     "execution_count": 15,
     "metadata": {},
     "output_type": "execute_result"
    }
   ],
   "source": [
    "rtmdf['dvd_date'] = pd.to_datetime(rtmdf['dvd_date'])\n",
    "rtmdf['dvd_date'].head()"
   ]
  },
  {
   "cell_type": "code",
   "execution_count": 16,
   "id": "d37711c3-bf3e-4db5-aa99-3e00b435bfe8",
   "metadata": {},
   "outputs": [
    {
     "data": {
      "text/plain": [
       "id\n",
       "1    104 minutes\n",
       "3    108 minutes\n",
       "5    116 minutes\n",
       "6    128 minutes\n",
       "7    200 minutes\n",
       "Name: runtime, dtype: object"
      ]
     },
     "execution_count": 16,
     "metadata": {},
     "output_type": "execute_result"
    }
   ],
   "source": [
    "rtmdf['runtime'].head()"
   ]
  },
  {
   "cell_type": "code",
   "execution_count": 17,
   "id": "2bf2f0a3-c4fe-475b-8929-47ee6e632f3f",
   "metadata": {},
   "outputs": [
    {
     "data": {
      "text/plain": [
       "id\n",
       "1    104\n",
       "3    108\n",
       "5    116\n",
       "6    128\n",
       "7    200\n",
       "Name: runtime, dtype: int64"
      ]
     },
     "execution_count": 17,
     "metadata": {},
     "output_type": "execute_result"
    }
   ],
   "source": [
    "# Remove the word 'minutes' and convert to integer\n",
    "rtmdf['runtime'] = rtmdf['runtime'].str.replace(' minutes', '').astype(int)\n",
    "rtmdf['runtime'].head()"
   ]
  },
  {
   "cell_type": "code",
   "execution_count": 18,
   "id": "f8859222-999b-4f74-9e46-2cd37bab0fb3",
   "metadata": {},
   "outputs": [],
   "source": [
    "# Filtering to a range of 40 to 200 minute\n",
    "rtmdf = rtmdf[(rtmdf['runtime'] >= 40) & (rtmdf['runtime'] <= 200)]"
   ]
  },
  {
   "cell_type": "code",
   "execution_count": 19,
   "id": "45609aa0-81da-45c2-815b-138338782950",
   "metadata": {},
   "outputs": [
    {
     "data": {
      "image/png": "[encoded data removed]",
      "text/plain": [
       "<Figure size 800x600 with 1 Axes>"
      ]
     },
     "metadata": {},
     "output_type": "display_data"
    }
   ],
   "source": [
    "plt.figure(figsize=(8, 6))\n",
    "plt.boxplot(rtmdf['runtime'])\n",
    "plt.xlabel('Runtime Minutes')\n",
    "plt.title('Box Plot of Runtime in Minutes')\n",
    "plt.show()"
   ]
  },
  {
   "cell_type": "markdown",
   "id": "e83054d2-19b6-424c-9bab-5feaf3151261",
   "metadata": {},
   "source": [
    "## Univariate Analysis"
   ]
  },
  {
   "cell_type": "markdown",
   "id": "2275d122-389a-4111-9ba5-9425c1cf1d70",
   "metadata": {},
   "source": [
    "### Histogram plot for top ten directors."
   ]
  },
  {
   "cell_type": "code",
   "execution_count": 20,
   "id": "fbfdd86f-1929-47cf-ab43-eaba4dad3ef9",
   "metadata": {},
   "outputs": [
    {
     "name": "stderr",
     "output_type": "stream",
     "text": [
      "/home/ikn/miniforge3/envs/learn-env/lib/python3.10/site-packages/seaborn/_oldcore.py:1119: FutureWarning: use_inf_as_na option is deprecated and will be removed in a future version. Convert inf values to NaN before operating instead.\n",
      "  with pd.option_context('mode.use_inf_as_na', True):\n"
     ]
    },
    {
     "data": {
      "image/png": "[encoded data removed]",
      "text/plain": [
       "<Figure size 1000x600 with 1 Axes>"
      ]
     },
     "metadata": {},
     "output_type": "display_data"
    }
   ],
   "source": [
    "# Get the top 10 directors\n",
    "top_10_directors = rtmdf['director'].value_counts().head(10).index\n",
    "\n",
    "# Filter the DataFrame to include only the top 10 directors\n",
    "top_10_df = rtmdf[rtmdf['director'].isin(top_10_directors)]\n",
    "\n",
    "# Plot the histogram\n",
    "plt.figure(figsize=(10, 6))\n",
    "sns.histplot(data=top_10_df, x='director', shrink=.8)\n",
    "plt.xticks(rotation=45)\n",
    "plt.xlabel('Director')\n",
    "plt.ylabel('Frequency')\n",
    "plt.title('Histogram of Top 10 Directors by Frequency')\n",
    "plt.tight_layout()\n",
    "plt.show()"
   ]
  },
  {
   "cell_type": "markdown",
   "id": "b9c7d100-ebbf-4c30-a4b3-7409fb0239a2",
   "metadata": {},
   "source": [
    "### Histogram plot to determine top writers."
   ]
  },
  {
   "cell_type": "code",
   "execution_count": null,
   "id": "5ce6c8f8-1447-42c8-b509-2f49c040d132",
   "metadata": {},
   "outputs": [],
   "source": [
    "# Get the top 10 directors\n",
    "top_10_directors = rtmdf['writer'].value_counts().head(10).index\n",
    "\n",
    "# Filter the DataFrame to include only the top 10 directors\n",
    "top_10_df = rtmdf[rtmdf['writer'].isin(top_10_directors)]\n",
    "\n",
    "# Plot the histogram\n",
    "plt.figure(figsize=(10, 6))\n",
    "sns.histplot(data=top_10_df, x='writer', shrink=.8)\n",
    "plt.xticks(rotation=45)\n",
    "plt.xlabel('Writer')\n",
    "plt.ylabel('Frequency')\n",
    "plt.title('Histogram of Top 10 Writer by Frequency')\n",
    "plt.tight_layout()\n",
    "plt.show()"
   ]
  },
  {
   "cell_type": "markdown",
   "id": "34f1abdc-3304-480e-9bd6-efaa26baeefc",
   "metadata": {},
   "source": [
    "### Histogram plot for Runtime "
   ]
  },
  {
   "cell_type": "code",
   "execution_count": null,
   "id": "084ac1c1-a5fb-45d5-bcf5-8cfa88e82487",
   "metadata": {},
   "outputs": [],
   "source": [
    "runtime_counts = rtmdf['runtime'].value_counts()\n",
    "top_10_runtime = runtime_counts.head(10).index\n",
    "data2_top_10_runtime = rtmdf[rtmdf['runtime'].isin(top_10_runtime)]"
   ]
  },
  {
   "cell_type": "code",
   "execution_count": null,
   "id": "2de2a281-ff0d-4732-a016-354c001db7d8",
   "metadata": {},
   "outputs": [],
   "source": [
    "runtime_counts = rtmdf['runtime'].value_counts()\n",
    "top_10_runtime = runtime_counts.head(10).index\n",
    "data2_top_10_runtime = rtmdf[rtmdf['runtime'].isin(top_10_runtime)]\n",
    "\n",
    "\n",
    "plt.figure(figsize=(10, 6))\n",
    "sns.histplot(data=data2_top_10_runtime, x='runtime', shrink=.8)\n",
    "plt.xticks(rotation=45)\n",
    "plt.xlabel('runtime per movie')\n",
    "plt.ylabel('Frequency')\n",
    "plt.title('Histogram of Movies runtime by Frequency')\n",
    "plt.tight_layout()\n",
    "plt.show()"
   ]
  },
  {
   "cell_type": "markdown",
   "id": "d30a2a39-9086-4ad1-9a19-13b7a758bb33",
   "metadata": {},
   "source": [
    "Here 95 minutes on the x axis shouldn't be considered since we filled in the 30 missing values with 95 minutes which was obtained as the mean of the sql runtime database."
   ]
  },
  {
   "cell_type": "code",
   "execution_count": null,
   "id": "cb0e54f9-43fd-4429-89d1-d4fd4b016cdc",
   "metadata": {},
   "outputs": [],
   "source": []
  },
  {
   "cell_type": "markdown",
   "id": "4f5098f7-ae16-4bd0-b4df-a450ea9e5b87",
   "metadata": {},
   "source": [
    "### Bivariate Analysis"
   ]
  },
  {
   "cell_type": "markdown",
   "id": "feae289d-efdb-4514-ae5e-ba1694f0ea87",
   "metadata": {},
   "source": [
    "### Scatter plot of runtime vs rating"
   ]
  },
  {
   "cell_type": "code",
   "execution_count": null,
   "id": "019c068a-6c44-4588-985c-809bbb36c5d3",
   "metadata": {},
   "outputs": [],
   "source": [
    "\n",
    "# Convert 'rating' from object to numeric using Label Encoding\n",
    "le = LabelEncoder()\n",
    "rtmdf['rating_encoded'] = le.fit_transform(rtmdf['rating'])\n",
    "rtmdf['rating_encoded']"
   ]
  },
  {
   "cell_type": "code",
   "execution_count": null,
   "id": "568ed701-9321-4644-bd5f-757527794d6a",
   "metadata": {},
   "outputs": [],
   "source": [
    "# Plot the scatter plot\n",
    "plt.figure(figsize=(10, 6))\n",
    "plt.scatter(rtmdf['runtime'], rtmdf['rating_encoded'], color='blue', alpha=0.5)\n",
    "\n",
    "# Label the axes\n",
    "plt.xlabel('Runtime in Minutes')\n",
    "plt.ylabel('Encoded Rating')\n",
    "\n",
    "# Set the title\n",
    "plt.title('Scatter Plot of Runtime vs. Encoded Rating')\n",
    "\n",
    "# Adjust x-axis ticks to a range from 0 to max runtime value at intervals max divided by 20.\n",
    "plt.xticks(ticks=range(0, int(rtmdf['runtime'].max()) + 1, int(rtmdf['runtime'].max() / 20)), rotation=45)\n",
    "\n",
    "# Adjust y-axis ticks, ensuring they match the encoded ratings\n",
    "plt.yticks(ticks=range(len(le.classes_)), labels=le.classes_)\n",
    "\n",
    "# Show grid\n",
    "plt.grid(True)\n",
    "\n",
    "# Show the plot\n",
    "plt.show()"
   ]
  },
  {
   "cell_type": "code",
   "execution_count": null,
   "id": "0f4f9683-d533-4968-a340-03aaa31bb9ad",
   "metadata": {},
   "outputs": [],
   "source": [
    "# Sort the DataFrame by 'runtime' in descending order\n",
    "data2_sorted = rtmdf.sort_values(by='runtime', ascending=False)\n",
    "\n",
    "# Get the top 10 rows\n",
    "top_10_data2 = data2_sorted.head(10)\n",
    "\n",
    "# Plotting\n",
    "plt.figure(figsize=(12, 8))\n",
    "plt.bar('rating_encoded', top_10_data2['runtime'], color='skyblue')\n",
    "\n",
    "# Adding labels and title\n",
    "plt.xlabel('Rating Encoding')\n",
    "plt.ylabel('Runtime (minutes)')\n",
    "plt.title('Top 10 Runtimes vs Rating Encoding')\n",
    "\n",
    "# Display the plot\n",
    "plt.show()"
   ]
  },
  {
   "cell_type": "markdown",
   "id": "33709ef6-5de4-4fd8-94bc-b9c1dbe63018",
   "metadata": {},
   "source": [
    "The above scatter plots show the different ratings of movies that each director and writer is involved in with Adrian Lyne  "
   ]
  },
  {
   "cell_type": "markdown",
   "id": "f6693e88-f6b2-4fd8-be25-5557ddedbeb0",
   "metadata": {},
   "source": [
    "#### The hypothesis test for runtime in minutes against rating.\n",
    "\n",
    "Null hypothesis; There is no significant relation between runtime and rating of movies.\n",
    "\n",
    "Alternate hypothesis; There is a significant relation between runtime and rating of movies."
   ]
  },
  {
   "cell_type": "code",
   "execution_count": null,
   "id": "e0ee9de5-734c-4e6e-bfdf-3ef7179d8e04",
   "metadata": {},
   "outputs": [],
   "source": [
    "import scipy.stats as stats\n",
    "\n",
    "# Visualize the relationship between runtime and rating\n",
    "sns.scatterplot(x='runtime', y='rating_encoded', data=rtmdf)\n",
    "plt.title('Runtime vs Rating')\n",
    "plt.xlabel('Runtime')\n",
    "plt.ylabel('Rating')\n",
    "plt.show()\n",
    "\n",
    "# Calculate Pearson correlation coefficient\n",
    "corr, p_value = stats.pearsonr(rtmdf['runtime'], rtmdf['rating_encoded'])\n",
    "print(f'Pearson Correlation Coefficient: {corr}, p-value: {p_value}')"
   ]
  },
  {
   "cell_type": "markdown",
   "id": "84a43e3c-cfe9-476c-831d-3bda02c35f1b",
   "metadata": {},
   "source": [
    "### Hypothesis test for Genre binary columns and rating."
   ]
  },
  {
   "cell_type": "code",
   "execution_count": null,
   "id": "199c667b-8e71-4688-80f5-7ae60fc5ad5c",
   "metadata": {},
   "outputs": [],
   "source": [
    "#using ANOVA\n",
    "# Convert genre binary columns to a list of genre columns\n",
    "genres = rtmdf.columns[rtmdf.columns.str.startswith('genre_')]\n",
    "\n",
    "# Perform ANOVA test for each genre\n",
    "for genre in genres:\n",
    "    grouped = df[df[genre] == 1]['rating_encoded']\n",
    "    other = df[df[genre] == 0]['rating_encoded']\n",
    "    \n",
    "    f_stat, p_value = f_oneway(grouped, other)\n",
    "    print(f'ANOVA test for {genre}: F-statistic = {f_stat}, p-value = {p_value}')"
   ]
  },
  {
   "cell_type": "code",
   "execution_count": null,
   "id": "ea618d61-2f0d-4d7b-b3c3-66fff6f5b72b",
   "metadata": {},
   "outputs": [],
   "source": []
  }
 ],
 "metadata": {
  "kernelspec": {
   "display_name": "Python (learn-env)",
   "language": "python",
   "name": "learn-env"
  },
  "language_info": {
   "codemirror_mode": {
    "name": "ipython",
    "version": 3
   },
   "file_extension": ".py",
   "mimetype": "text/x-python",
   "name": "python",
   "nbconvert_exporter": "python",
   "pygments_lexer": "ipython3",
   "version": "3.10.12"
  }
 },
 "nbformat": 4,
 "nbformat_minor": 5
}
