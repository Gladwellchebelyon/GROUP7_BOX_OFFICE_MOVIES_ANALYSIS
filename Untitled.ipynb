{
 "cells": [
  {
   "cell_type": "markdown",
   "id": "59c6005e-4c7f-4c62-9af7-ffda9fba10e6",
   "metadata": {},
   "source": [
    "# Introduction\n",
    "\n"
   ]
  },
  {
   "cell_type": "markdown",
   "id": "d5a2f2ab-1e7c-4e56-9ad7-82977ca77205",
   "metadata": {},
   "source": [
    "As the entertainment industry surges and major corporations dive into original video content, a new company is poised to enter the competitive world of movie-making. Recognizing the complexities of the film business, especially for newcomers, the company seeks to establish a strong foundation by understanding current box office trends and transforming these insights into a strategic roadmap for their new studio.\n",
    "\n",
    "To ensure a successful start, the company has enlisted our help as Group 7 members to identify which types of films are currently performing well at the box office and translate these findings into actionable recommendations."
   ]
  },
  {
   "cell_type": "markdown",
   "id": "10def227-cb00-4a73-99c4-b20b397e6b87",
   "metadata": {},
   "source": [
    "# Business Understanding"
   ]
  },
  {
   "cell_type": "markdown",
   "id": "6f77fc42-26fd-4e7c-9d62-d2c0fd9e5024",
   "metadata": {},
   "source": [
    "The Business objective is to identify which film genres will consistently bring in the most revenue for this new studio.  There are many elements that contribute to a film's success and our goal is to analyze these factors through Exploratory Data Analysis (EDA) and linear regression. This will allow us to uncover trends and connections that will guide the studio's production choices. \n",
    "\n",
    "Ultimately, we want to translate these insights into actionable recommendations that will help the studio create films that captivate audiences and turn a profit."
   ]
  },
  {
   "cell_type": "markdown",
   "id": "0a43966f-8047-485a-89db-6cfe0619eb54",
   "metadata": {},
   "source": [
    "# Objectives"
   ]
  },
  {
   "cell_type": "markdown",
   "id": "7d1daf0a-a9bd-48fe-8e38-ce2ec069f1d9",
   "metadata": {},
   "source": [
    "## Main Objectives"
   ]
  },
  {
   "cell_type": "markdown",
   "id": "2f677158-1aca-4264-8b96-8bb749f14a35",
   "metadata": {},
   "source": [
    "1.To determine which types of films are performing best at the box office.\n",
    "\n",
    "2.To identify key factors that contribute to a film's success."
   ]
  },
  {
   "cell_type": "markdown",
   "id": "9558dfbf-5797-45d0-8f61-cef011a618e3",
   "metadata": {},
   "source": [
    "##    Specific Objectives"
   ]
  },
  {
   "cell_type": "markdown",
   "id": "88488fcf-08e5-4e2f-b036-a88e99b61f6d",
   "metadata": {},
   "source": [
    "1.Investigate key variables such as production budgets, domestic and worldwide gross revenues, release years, and genres.\n",
    "\n",
    "2.Develop predictive models to determine factors significantly impacting box office performance.\n",
    "\n",
    "3.To investigate the relationship between production budget and box office revenue.\n",
    "\n",
    "4.To examine the impact of release timing on a film's success.\n",
    "\n",
    "5.To provide data-driven recommendations for film production and release strategies."
   ]
  },
  {
   "cell_type": "markdown",
   "id": "f2653f8a-0c4c-472e-8e03-21d46b25a997",
   "metadata": {},
   "source": [
    "# Data Understanding"
   ]
  },
  {
   "cell_type": "markdown",
   "id": "ff89cd11-7400-437e-80c6-63608c135673",
   "metadata": {},
   "source": [
    "In this analysis, we will use a datasets from:\n",
    "\n",
    "    1.Box Office \n",
    "    2.IMDB\n",
    "    3.Rotten Tomatoes\n",
    "    4. The Movie\n",
    "    5. The Numbers\n",
    "\n",
    "The data containsning information about various films, including their genres, budgets, box office revenues, and release dailic.\n",
    "Understanding the structure and contents of our data will be the first step in uncovering the insights needed to guide our new movie studio's strategy."
   ]
  },
  {
   "cell_type": "markdown",
   "id": "4e7ed68e-ee7c-44e9-bc6e-97bb1f3fbc81",
   "metadata": {},
   "source": [
    "### Importing the necesarry libraries"
   ]
  },
  {
   "cell_type": "code",
   "execution_count": 62,
   "id": "6d642ca1-0152-4ef6-ac17-66d37706aa07",
   "metadata": {},
   "outputs": [],
   "source": [
    "import numpy as np\n",
    "import pandas as pd\n",
    "import sqlite3\n",
    "import matplotlib.pyplot as plt\n",
    "import seaborn as sns\n",
    "from mpl_toolkits.mplot3d import Axes3D\n",
    "%matplotlib inline"
   ]
  },
  {
   "cell_type": "code",
   "execution_count": 23,
   "id": "e0c237f7-2b22-452b-9c0b-2cd1935edc7b",
   "metadata": {},
   "outputs": [],
   "source": [
    "TN_df= pd.read_csv(\"tn.movie_budgets.csv\", index_col= 0)"
   ]
  },
  {
   "cell_type": "markdown",
   "id": "8483388a-3131-4c96-abd6-ab8ddea2caea",
   "metadata": {},
   "source": [
    "# The Numbers Movie Budgets dataframe"
   ]
  },
  {
   "cell_type": "markdown",
   "id": "2a47d7ca-717f-49e3-9d9f-ddd5b356805b",
   "metadata": {},
   "source": [
    "### Initial Data Inspection"
   ]
  },
  {
   "cell_type": "markdown",
   "id": "c07a5896-33fc-439e-8bd8-44af47d1446e",
   "metadata": {},
   "source": [
    "Getting a preview of the first 10 rows"
   ]
  },
  {
   "cell_type": "code",
   "execution_count": 24,
   "id": "d1277b5f-1f60-41e8-8312-3462e5f37b96",
   "metadata": {},
   "outputs": [
    {
     "data": {
      "text/html": [
       "<div>\n",
       "<style scoped>\n",
       "    .dataframe tbody tr th:only-of-type {\n",
       "        vertical-align: middle;\n",
       "    }\n",
       "\n",
       "    .dataframe tbody tr th {\n",
       "        vertical-align: top;\n",
       "    }\n",
       "\n",
       "    .dataframe thead th {\n",
       "        text-align: right;\n",
       "    }\n",
       "</style>\n",
       "<table border=\"1\" class=\"dataframe\">\n",
       "  <thead>\n",
       "    <tr style=\"text-align: right;\">\n",
       "      <th></th>\n",
       "      <th>release_date</th>\n",
       "      <th>movie</th>\n",
       "      <th>production_budget</th>\n",
       "      <th>domestic_gross</th>\n",
       "      <th>worldwide_gross</th>\n",
       "    </tr>\n",
       "    <tr>\n",
       "      <th>id</th>\n",
       "      <th></th>\n",
       "      <th></th>\n",
       "      <th></th>\n",
       "      <th></th>\n",
       "      <th></th>\n",
       "    </tr>\n",
       "  </thead>\n",
       "  <tbody>\n",
       "    <tr>\n",
       "      <th>1</th>\n",
       "      <td>Dec 18, 2009</td>\n",
       "      <td>Avatar</td>\n",
       "      <td>$425,000,000</td>\n",
       "      <td>$760,507,625</td>\n",
       "      <td>$2,776,345,279</td>\n",
       "    </tr>\n",
       "    <tr>\n",
       "      <th>2</th>\n",
       "      <td>May 20, 2011</td>\n",
       "      <td>Pirates of the Caribbean: On Stranger Tides</td>\n",
       "      <td>$410,600,000</td>\n",
       "      <td>$241,063,875</td>\n",
       "      <td>$1,045,663,875</td>\n",
       "    </tr>\n",
       "    <tr>\n",
       "      <th>3</th>\n",
       "      <td>Jun 7, 2019</td>\n",
       "      <td>Dark Phoenix</td>\n",
       "      <td>$350,000,000</td>\n",
       "      <td>$42,762,350</td>\n",
       "      <td>$149,762,350</td>\n",
       "    </tr>\n",
       "    <tr>\n",
       "      <th>4</th>\n",
       "      <td>May 1, 2015</td>\n",
       "      <td>Avengers: Age of Ultron</td>\n",
       "      <td>$330,600,000</td>\n",
       "      <td>$459,005,868</td>\n",
       "      <td>$1,403,013,963</td>\n",
       "    </tr>\n",
       "    <tr>\n",
       "      <th>5</th>\n",
       "      <td>Dec 15, 2017</td>\n",
       "      <td>Star Wars Ep. VIII: The Last Jedi</td>\n",
       "      <td>$317,000,000</td>\n",
       "      <td>$620,181,382</td>\n",
       "      <td>$1,316,721,747</td>\n",
       "    </tr>\n",
       "  </tbody>\n",
       "</table>\n",
       "</div>"
      ],
      "text/plain": [
       "    release_date                                        movie  \\\n",
       "id                                                              \n",
       "1   Dec 18, 2009                                       Avatar   \n",
       "2   May 20, 2011  Pirates of the Caribbean: On Stranger Tides   \n",
       "3    Jun 7, 2019                                 Dark Phoenix   \n",
       "4    May 1, 2015                      Avengers: Age of Ultron   \n",
       "5   Dec 15, 2017            Star Wars Ep. VIII: The Last Jedi   \n",
       "\n",
       "   production_budget domestic_gross worldwide_gross  \n",
       "id                                                   \n",
       "1       $425,000,000   $760,507,625  $2,776,345,279  \n",
       "2       $410,600,000   $241,063,875  $1,045,663,875  \n",
       "3       $350,000,000    $42,762,350    $149,762,350  \n",
       "4       $330,600,000   $459,005,868  $1,403,013,963  \n",
       "5       $317,000,000   $620,181,382  $1,316,721,747  "
      ]
     },
     "execution_count": 24,
     "metadata": {},
     "output_type": "execute_result"
    }
   ],
   "source": [
    "TN_df.head()"
   ]
  },
  {
   "cell_type": "markdown",
   "id": "e1f7ce88-c19e-40e1-bf04-8e9108c8e7fb",
   "metadata": {},
   "source": [
    "Getting basic information about the whole dataset"
   ]
  },
  {
   "cell_type": "code",
   "execution_count": 25,
   "id": "4f43804d-1038-41dd-b019-0c7f64a59df4",
   "metadata": {},
   "outputs": [
    {
     "name": "stdout",
     "output_type": "stream",
     "text": [
      "<class 'pandas.core.frame.DataFrame'>\n",
      "Index: 5782 entries, 1 to 82\n",
      "Data columns (total 5 columns):\n",
      " #   Column             Non-Null Count  Dtype \n",
      "---  ------             --------------  ----- \n",
      " 0   release_date       5782 non-null   object\n",
      " 1   movie              5782 non-null   object\n",
      " 2   production_budget  5782 non-null   object\n",
      " 3   domestic_gross     5782 non-null   object\n",
      " 4   worldwide_gross    5782 non-null   object\n",
      "dtypes: object(5)\n",
      "memory usage: 271.0+ KB\n"
     ]
    }
   ],
   "source": [
    "TN_df.info()"
   ]
  },
  {
   "cell_type": "code",
   "execution_count": 26,
   "id": "541a7c3e-3f68-4c07-b972-d8209c5b20f4",
   "metadata": {},
   "outputs": [
    {
     "data": {
      "text/html": [
       "<div>\n",
       "<style scoped>\n",
       "    .dataframe tbody tr th:only-of-type {\n",
       "        vertical-align: middle;\n",
       "    }\n",
       "\n",
       "    .dataframe tbody tr th {\n",
       "        vertical-align: top;\n",
       "    }\n",
       "\n",
       "    .dataframe thead th {\n",
       "        text-align: right;\n",
       "    }\n",
       "</style>\n",
       "<table border=\"1\" class=\"dataframe\">\n",
       "  <thead>\n",
       "    <tr style=\"text-align: right;\">\n",
       "      <th></th>\n",
       "      <th>release_date</th>\n",
       "      <th>movie</th>\n",
       "      <th>production_budget</th>\n",
       "      <th>domestic_gross</th>\n",
       "      <th>worldwide_gross</th>\n",
       "    </tr>\n",
       "  </thead>\n",
       "  <tbody>\n",
       "    <tr>\n",
       "      <th>count</th>\n",
       "      <td>5782</td>\n",
       "      <td>5782</td>\n",
       "      <td>5782</td>\n",
       "      <td>5782</td>\n",
       "      <td>5782</td>\n",
       "    </tr>\n",
       "    <tr>\n",
       "      <th>unique</th>\n",
       "      <td>2418</td>\n",
       "      <td>5698</td>\n",
       "      <td>509</td>\n",
       "      <td>5164</td>\n",
       "      <td>5356</td>\n",
       "    </tr>\n",
       "    <tr>\n",
       "      <th>top</th>\n",
       "      <td>Dec 31, 2014</td>\n",
       "      <td>Halloween</td>\n",
       "      <td>$20,000,000</td>\n",
       "      <td>$0</td>\n",
       "      <td>$0</td>\n",
       "    </tr>\n",
       "    <tr>\n",
       "      <th>freq</th>\n",
       "      <td>24</td>\n",
       "      <td>3</td>\n",
       "      <td>231</td>\n",
       "      <td>548</td>\n",
       "      <td>367</td>\n",
       "    </tr>\n",
       "  </tbody>\n",
       "</table>\n",
       "</div>"
      ],
      "text/plain": [
       "        release_date      movie production_budget domestic_gross  \\\n",
       "count           5782       5782              5782           5782   \n",
       "unique          2418       5698               509           5164   \n",
       "top     Dec 31, 2014  Halloween       $20,000,000             $0   \n",
       "freq              24          3               231            548   \n",
       "\n",
       "       worldwide_gross  \n",
       "count             5782  \n",
       "unique            5356  \n",
       "top                 $0  \n",
       "freq               367  "
      ]
     },
     "execution_count": 26,
     "metadata": {},
     "output_type": "execute_result"
    }
   ],
   "source": [
    "TN_df.describe()"
   ]
  },
  {
   "cell_type": "code",
   "execution_count": 27,
   "id": "d0e616c5-a8e8-414a-b054-9cfb34012c96",
   "metadata": {},
   "outputs": [
    {
     "data": {
      "text/plain": [
       "(5782, 5)"
      ]
     },
     "execution_count": 27,
     "metadata": {},
     "output_type": "execute_result"
    }
   ],
   "source": [
    "TN_df.shape"
   ]
  },
  {
   "cell_type": "markdown",
   "id": "cbaa90b8-09df-4ba8-8a76-49193bfd953d",
   "metadata": {},
   "source": [
    "# Data wrangling"
   ]
  },
  {
   "cell_type": "markdown",
   "id": "c569e373-d3f0-49a2-9557-1537ac9568f4",
   "metadata": {},
   "source": [
    "#### Handling missing values"
   ]
  },
  {
   "cell_type": "code",
   "execution_count": 28,
   "id": "f505ca5a-b4ae-4ab9-a3b0-f03933e314ac",
   "metadata": {},
   "outputs": [
    {
     "data": {
      "text/plain": [
       "release_date         0\n",
       "movie                0\n",
       "production_budget    0\n",
       "domestic_gross       0\n",
       "worldwide_gross      0\n",
       "dtype: int64"
      ]
     },
     "execution_count": 28,
     "metadata": {},
     "output_type": "execute_result"
    }
   ],
   "source": [
    "# Checking for missing values\n",
    "TN_df.isnull().sum()"
   ]
  },
  {
   "cell_type": "markdown",
   "id": "34a33457-6721-4184-8450-219eb69cab48",
   "metadata": {},
   "source": [
    "There are no missing values in this dataframe"
   ]
  },
  {
   "cell_type": "markdown",
   "id": "cdd55d13-8852-449b-af32-9b0eea6cd42a",
   "metadata": {},
   "source": [
    "#### Cleaning of the release date column."
   ]
  },
  {
   "cell_type": "code",
   "execution_count": 29,
   "id": "3063bc58-1614-4806-ad4f-71d169dccb94",
   "metadata": {},
   "outputs": [
    {
     "data": {
      "text/plain": [
       "id\n",
       "1    Dec 18, 2009\n",
       "2    May 20, 2011\n",
       "3     Jun 7, 2019\n",
       "4     May 1, 2015\n",
       "5    Dec 15, 2017\n",
       "Name: release_date, dtype: object"
      ]
     },
     "execution_count": 29,
     "metadata": {},
     "output_type": "execute_result"
    }
   ],
   "source": [
    "# Getting a preview of the first 5 rows of the \"release_date\" column\n",
    "TN_df[\"release_date\"].head()"
   ]
  },
  {
   "cell_type": "markdown",
   "id": "ab9b1c8c-4cb6-4838-a5ce-b40d59670930",
   "metadata": {},
   "source": [
    "For my analysis it would be more helpful to split this data into release month and release year."
   ]
  },
  {
   "cell_type": "code",
   "execution_count": 30,
   "id": "890802a7-763a-4601-b363-daa4b890bb7b",
   "metadata": {},
   "outputs": [
    {
     "data": {
      "text/html": [
       "<div>\n",
       "<style scoped>\n",
       "    .dataframe tbody tr th:only-of-type {\n",
       "        vertical-align: middle;\n",
       "    }\n",
       "\n",
       "    .dataframe tbody tr th {\n",
       "        vertical-align: top;\n",
       "    }\n",
       "\n",
       "    .dataframe thead th {\n",
       "        text-align: right;\n",
       "    }\n",
       "</style>\n",
       "<table border=\"1\" class=\"dataframe\">\n",
       "  <thead>\n",
       "    <tr style=\"text-align: right;\">\n",
       "      <th></th>\n",
       "      <th>release_date</th>\n",
       "      <th>movie</th>\n",
       "      <th>production_budget</th>\n",
       "      <th>domestic_gross</th>\n",
       "      <th>worldwide_gross</th>\n",
       "      <th>release_year</th>\n",
       "      <th>release_month</th>\n",
       "    </tr>\n",
       "    <tr>\n",
       "      <th>id</th>\n",
       "      <th></th>\n",
       "      <th></th>\n",
       "      <th></th>\n",
       "      <th></th>\n",
       "      <th></th>\n",
       "      <th></th>\n",
       "      <th></th>\n",
       "    </tr>\n",
       "  </thead>\n",
       "  <tbody>\n",
       "    <tr>\n",
       "      <th>1</th>\n",
       "      <td>2009-12-18</td>\n",
       "      <td>Avatar</td>\n",
       "      <td>$425,000,000</td>\n",
       "      <td>$760,507,625</td>\n",
       "      <td>$2,776,345,279</td>\n",
       "      <td>2009</td>\n",
       "      <td>12</td>\n",
       "    </tr>\n",
       "    <tr>\n",
       "      <th>2</th>\n",
       "      <td>2011-05-20</td>\n",
       "      <td>Pirates of the Caribbean: On Stranger Tides</td>\n",
       "      <td>$410,600,000</td>\n",
       "      <td>$241,063,875</td>\n",
       "      <td>$1,045,663,875</td>\n",
       "      <td>2011</td>\n",
       "      <td>5</td>\n",
       "    </tr>\n",
       "    <tr>\n",
       "      <th>3</th>\n",
       "      <td>2019-06-07</td>\n",
       "      <td>Dark Phoenix</td>\n",
       "      <td>$350,000,000</td>\n",
       "      <td>$42,762,350</td>\n",
       "      <td>$149,762,350</td>\n",
       "      <td>2019</td>\n",
       "      <td>6</td>\n",
       "    </tr>\n",
       "  </tbody>\n",
       "</table>\n",
       "</div>"
      ],
      "text/plain": [
       "   release_date                                        movie  \\\n",
       "id                                                             \n",
       "1    2009-12-18                                       Avatar   \n",
       "2    2011-05-20  Pirates of the Caribbean: On Stranger Tides   \n",
       "3    2019-06-07                                 Dark Phoenix   \n",
       "\n",
       "   production_budget domestic_gross worldwide_gross  release_year  \\\n",
       "id                                                                  \n",
       "1       $425,000,000   $760,507,625  $2,776,345,279          2009   \n",
       "2       $410,600,000   $241,063,875  $1,045,663,875          2011   \n",
       "3       $350,000,000    $42,762,350    $149,762,350          2019   \n",
       "\n",
       "    release_month  \n",
       "id                 \n",
       "1              12  \n",
       "2               5  \n",
       "3               6  "
      ]
     },
     "execution_count": 30,
     "metadata": {},
     "output_type": "execute_result"
    }
   ],
   "source": [
    "# Converting the release_date column to datetime format\n",
    "TN_df[\"release_date\"] = pd.to_datetime(TN_df[\"release_date\"])\n",
    "\n",
    "# Creating new columns for \"release_year\" and \"release_month\" by splitting the \"release_date\" column\n",
    "TN_df[\"release_year\"]= TN_df[\"release_date\"].dt.year\n",
    "TN_df[\"release_month\"]= TN_df[\"release_date\"].dt.month\n",
    "\n",
    "# Preview of the first 3 rows of the resulting  dataframe\n",
    "TN_df.head(3)"
   ]
  },
  {
   "cell_type": "markdown",
   "id": "af7a5021-26bd-4788-b27d-a2d8d5574260",
   "metadata": {},
   "source": [
    "Now that we have split the release date in year and months we no longer have use for the release date column, hence we will drop it from the dataframe."
   ]
  },
  {
   "cell_type": "code",
   "execution_count": 31,
   "id": "cbce20bb-928e-43fe-af45-bb5ef972c70e",
   "metadata": {},
   "outputs": [
    {
     "data": {
      "text/html": [
       "<div>\n",
       "<style scoped>\n",
       "    .dataframe tbody tr th:only-of-type {\n",
       "        vertical-align: middle;\n",
       "    }\n",
       "\n",
       "    .dataframe tbody tr th {\n",
       "        vertical-align: top;\n",
       "    }\n",
       "\n",
       "    .dataframe thead th {\n",
       "        text-align: right;\n",
       "    }\n",
       "</style>\n",
       "<table border=\"1\" class=\"dataframe\">\n",
       "  <thead>\n",
       "    <tr style=\"text-align: right;\">\n",
       "      <th></th>\n",
       "      <th>movie</th>\n",
       "      <th>production_budget</th>\n",
       "      <th>domestic_gross</th>\n",
       "      <th>worldwide_gross</th>\n",
       "      <th>release_year</th>\n",
       "      <th>release_month</th>\n",
       "    </tr>\n",
       "    <tr>\n",
       "      <th>id</th>\n",
       "      <th></th>\n",
       "      <th></th>\n",
       "      <th></th>\n",
       "      <th></th>\n",
       "      <th></th>\n",
       "      <th></th>\n",
       "    </tr>\n",
       "  </thead>\n",
       "  <tbody>\n",
       "    <tr>\n",
       "      <th>1</th>\n",
       "      <td>Avatar</td>\n",
       "      <td>$425,000,000</td>\n",
       "      <td>$760,507,625</td>\n",
       "      <td>$2,776,345,279</td>\n",
       "      <td>2009</td>\n",
       "      <td>12</td>\n",
       "    </tr>\n",
       "    <tr>\n",
       "      <th>2</th>\n",
       "      <td>Pirates of the Caribbean: On Stranger Tides</td>\n",
       "      <td>$410,600,000</td>\n",
       "      <td>$241,063,875</td>\n",
       "      <td>$1,045,663,875</td>\n",
       "      <td>2011</td>\n",
       "      <td>5</td>\n",
       "    </tr>\n",
       "    <tr>\n",
       "      <th>3</th>\n",
       "      <td>Dark Phoenix</td>\n",
       "      <td>$350,000,000</td>\n",
       "      <td>$42,762,350</td>\n",
       "      <td>$149,762,350</td>\n",
       "      <td>2019</td>\n",
       "      <td>6</td>\n",
       "    </tr>\n",
       "  </tbody>\n",
       "</table>\n",
       "</div>"
      ],
      "text/plain": [
       "                                          movie production_budget  \\\n",
       "id                                                                  \n",
       "1                                        Avatar      $425,000,000   \n",
       "2   Pirates of the Caribbean: On Stranger Tides      $410,600,000   \n",
       "3                                  Dark Phoenix      $350,000,000   \n",
       "\n",
       "   domestic_gross worldwide_gross  release_year  release_month  \n",
       "id                                                              \n",
       "1    $760,507,625  $2,776,345,279          2009             12  \n",
       "2    $241,063,875  $1,045,663,875          2011              5  \n",
       "3     $42,762,350    $149,762,350          2019              6  "
      ]
     },
     "execution_count": 31,
     "metadata": {},
     "output_type": "execute_result"
    }
   ],
   "source": [
    "# Dropping the \"release_date\" column\n",
    "TN_df = TN_df.drop(columns =\"release_date\", axis=1)\n",
    "TN_df.head(3)"
   ]
  },
  {
   "cell_type": "markdown",
   "id": "a1041eed-262c-44ba-aab3-1b434697b632",
   "metadata": {},
   "source": [
    "#### Cleaning the movie column"
   ]
  },
  {
   "cell_type": "markdown",
   "id": "b63babd8-7c3c-480f-8c31-5b082ad02ad9",
   "metadata": {},
   "source": [
    "Checking to see if there are duplicates. All the values in the \"movie\" column should be unique."
   ]
  },
  {
   "cell_type": "code",
   "execution_count": 32,
   "id": "7ade2341-732f-4816-8415-3908a6a9d55d",
   "metadata": {},
   "outputs": [
    {
     "data": {
      "text/plain": [
       "count          5782\n",
       "unique         5698\n",
       "top       Halloween\n",
       "freq              3\n",
       "Name: movie, dtype: object"
      ]
     },
     "execution_count": 32,
     "metadata": {},
     "output_type": "execute_result"
    }
   ],
   "source": [
    "# Getting info about the movie column\n",
    "TN_df[\"movie\"].describe()"
   ]
  },
  {
   "cell_type": "markdown",
   "id": "476739a3-b429-4297-a769-bf2ca6d8856d",
   "metadata": {},
   "source": [
    "The number of unique values not being equal to the total count of values shows that there are some duplicates in the movie column. The difference between the total counts and the unique values shows that there are 84 duplicated values. Below we check for duplicates and drop rows where the movie column has duplicate values."
   ]
  },
  {
   "cell_type": "code",
   "execution_count": 33,
   "id": "fbfbd7b8-873d-471e-8b91-07b4db67549c",
   "metadata": {},
   "outputs": [
    {
     "data": {
      "text/html": [
       "<div>\n",
       "<style scoped>\n",
       "    .dataframe tbody tr th:only-of-type {\n",
       "        vertical-align: middle;\n",
       "    }\n",
       "\n",
       "    .dataframe tbody tr th {\n",
       "        vertical-align: top;\n",
       "    }\n",
       "\n",
       "    .dataframe thead th {\n",
       "        text-align: right;\n",
       "    }\n",
       "</style>\n",
       "<table border=\"1\" class=\"dataframe\">\n",
       "  <thead>\n",
       "    <tr style=\"text-align: right;\">\n",
       "      <th></th>\n",
       "      <th>movie</th>\n",
       "      <th>production_budget</th>\n",
       "      <th>domestic_gross</th>\n",
       "      <th>worldwide_gross</th>\n",
       "      <th>release_year</th>\n",
       "      <th>release_month</th>\n",
       "    </tr>\n",
       "    <tr>\n",
       "      <th>id</th>\n",
       "      <th></th>\n",
       "      <th></th>\n",
       "      <th></th>\n",
       "      <th></th>\n",
       "      <th></th>\n",
       "      <th></th>\n",
       "    </tr>\n",
       "  </thead>\n",
       "  <tbody>\n",
       "    <tr>\n",
       "      <th>74</th>\n",
       "      <td>Godzilla</td>\n",
       "      <td>$125,000,000</td>\n",
       "      <td>$136,314,294</td>\n",
       "      <td>$376,000,000</td>\n",
       "      <td>1998</td>\n",
       "      <td>5</td>\n",
       "    </tr>\n",
       "    <tr>\n",
       "      <th>9</th>\n",
       "      <td>Robin Hood</td>\n",
       "      <td>$99,000,000</td>\n",
       "      <td>$30,824,628</td>\n",
       "      <td>$84,747,441</td>\n",
       "      <td>2018</td>\n",
       "      <td>11</td>\n",
       "    </tr>\n",
       "    <tr>\n",
       "      <th>85</th>\n",
       "      <td>Fantastic Four</td>\n",
       "      <td>$87,500,000</td>\n",
       "      <td>$154,696,080</td>\n",
       "      <td>$333,132,750</td>\n",
       "      <td>2005</td>\n",
       "      <td>7</td>\n",
       "    </tr>\n",
       "    <tr>\n",
       "      <th>44</th>\n",
       "      <td>The Mummy</td>\n",
       "      <td>$80,000,000</td>\n",
       "      <td>$155,385,488</td>\n",
       "      <td>$416,385,488</td>\n",
       "      <td>1999</td>\n",
       "      <td>5</td>\n",
       "    </tr>\n",
       "    <tr>\n",
       "      <th>8</th>\n",
       "      <td>Hercules</td>\n",
       "      <td>$70,000,000</td>\n",
       "      <td>$99,112,101</td>\n",
       "      <td>$250,700,000</td>\n",
       "      <td>1997</td>\n",
       "      <td>6</td>\n",
       "    </tr>\n",
       "    <tr>\n",
       "      <th>...</th>\n",
       "      <td>...</td>\n",
       "      <td>...</td>\n",
       "      <td>...</td>\n",
       "      <td>...</td>\n",
       "      <td>...</td>\n",
       "      <td>...</td>\n",
       "    </tr>\n",
       "    <tr>\n",
       "      <th>69</th>\n",
       "      <td>Cat People</td>\n",
       "      <td>$134,000</td>\n",
       "      <td>$4,000,000</td>\n",
       "      <td>$8,000,000</td>\n",
       "      <td>1942</td>\n",
       "      <td>11</td>\n",
       "    </tr>\n",
       "    <tr>\n",
       "      <th>77</th>\n",
       "      <td>Night of the Living Dead</td>\n",
       "      <td>$114,000</td>\n",
       "      <td>$12,087,064</td>\n",
       "      <td>$30,087,064</td>\n",
       "      <td>1968</td>\n",
       "      <td>10</td>\n",
       "    </tr>\n",
       "    <tr>\n",
       "      <th>78</th>\n",
       "      <td>The Birth of a Nation</td>\n",
       "      <td>$110,000</td>\n",
       "      <td>$10,000,000</td>\n",
       "      <td>$11,000,000</td>\n",
       "      <td>1915</td>\n",
       "      <td>2</td>\n",
       "    </tr>\n",
       "    <tr>\n",
       "      <th>100</th>\n",
       "      <td>The Last House on the Left</td>\n",
       "      <td>$87,000</td>\n",
       "      <td>$3,100,000</td>\n",
       "      <td>$3,100,000</td>\n",
       "      <td>1972</td>\n",
       "      <td>8</td>\n",
       "    </tr>\n",
       "    <tr>\n",
       "      <th>19</th>\n",
       "      <td>The Signal</td>\n",
       "      <td>$50,000</td>\n",
       "      <td>$251,150</td>\n",
       "      <td>$406,299</td>\n",
       "      <td>2008</td>\n",
       "      <td>2</td>\n",
       "    </tr>\n",
       "  </tbody>\n",
       "</table>\n",
       "<p>84 rows × 6 columns</p>\n",
       "</div>"
      ],
      "text/plain": [
       "                          movie production_budget domestic_gross  \\\n",
       "id                                                                 \n",
       "74                     Godzilla      $125,000,000   $136,314,294   \n",
       "9                    Robin Hood       $99,000,000    $30,824,628   \n",
       "85               Fantastic Four       $87,500,000   $154,696,080   \n",
       "44                    The Mummy       $80,000,000   $155,385,488   \n",
       "8                      Hercules       $70,000,000    $99,112,101   \n",
       "..                          ...               ...            ...   \n",
       "69                   Cat People          $134,000     $4,000,000   \n",
       "77     Night of the Living Dead          $114,000    $12,087,064   \n",
       "78        The Birth of a Nation          $110,000    $10,000,000   \n",
       "100  The Last House on the Left           $87,000     $3,100,000   \n",
       "19                   The Signal           $50,000       $251,150   \n",
       "\n",
       "    worldwide_gross  release_year  release_month  \n",
       "id                                                \n",
       "74     $376,000,000          1998              5  \n",
       "9       $84,747,441          2018             11  \n",
       "85     $333,132,750          2005              7  \n",
       "44     $416,385,488          1999              5  \n",
       "8      $250,700,000          1997              6  \n",
       "..              ...           ...            ...  \n",
       "69       $8,000,000          1942             11  \n",
       "77      $30,087,064          1968             10  \n",
       "78      $11,000,000          1915              2  \n",
       "100      $3,100,000          1972              8  \n",
       "19         $406,299          2008              2  \n",
       "\n",
       "[84 rows x 6 columns]"
      ]
     },
     "execution_count": 33,
     "metadata": {},
     "output_type": "execute_result"
    }
   ],
   "source": [
    "# Creating a dataframe that combines rows where the movie column has duplicate values in the TN_df dataframe.\n",
    "\n",
    "duplicate_movies = TN_df[TN_df.duplicated(subset='movie')]\n",
    "\n",
    "# Getting a preview of the duplicated rows\n",
    "\n",
    "duplicate_movies"
   ]
  },
  {
   "cell_type": "code",
   "execution_count": 34,
   "id": "ec980825-6438-40bc-a861-ea6cc8c622e1",
   "metadata": {},
   "outputs": [
    {
     "data": {
      "text/plain": [
       "(5698, 6)"
      ]
     },
     "execution_count": 34,
     "metadata": {},
     "output_type": "execute_result"
    }
   ],
   "source": [
    "# Dropping rows where the movie column has duplicated values.\n",
    "\n",
    "TN_df = TN_df.drop_duplicates(subset = ['movie'])\n",
    "\n",
    "# Check if the changes have been implemented the new number of rows should now be 5698\n",
    "\n",
    "TN_df.shape"
   ]
  },
  {
   "cell_type": "markdown",
   "id": "08c72d7c-484b-4a12-81cd-18dcdc846ad1",
   "metadata": {},
   "source": [
    "#### Cleaning the production_budget, domestic_gross and world_wide gross columns"
   ]
  },
  {
   "cell_type": "markdown",
   "id": "20dd8e2b-38b0-4bc1-8794-32e3300bab90",
   "metadata": {},
   "source": [
    "These columns represent financial figures thus it is important that we work with them in integer or float format to allow us to carry out mathematical functions on them."
   ]
  },
  {
   "cell_type": "code",
   "execution_count": 35,
   "id": "ce96eb6b-35e8-4e17-9ef6-17b6b4a288cb",
   "metadata": {},
   "outputs": [
    {
     "data": {
      "text/plain": [
       "movie                object\n",
       "production_budget    object\n",
       "domestic_gross       object\n",
       "worldwide_gross      object\n",
       "release_year          int32\n",
       "release_month         int32\n",
       "dtype: object"
      ]
     },
     "execution_count": 35,
     "metadata": {},
     "output_type": "execute_result"
    }
   ],
   "source": [
    "# Checking their datatypes\n",
    "TN_df.dtypes"
   ]
  },
  {
   "cell_type": "markdown",
   "id": "60bc3780-0c45-419c-a9cd-54791ee2c41b",
   "metadata": {},
   "source": [
    "Since the three columns have object data types, we will convert them into integer format."
   ]
  },
  {
   "cell_type": "code",
   "execution_count": 36,
   "id": "c399bcad-7b42-47f7-9277-a0d75a4ad9c6",
   "metadata": {},
   "outputs": [
    {
     "data": {
      "text/html": [
       "<div>\n",
       "<style scoped>\n",
       "    .dataframe tbody tr th:only-of-type {\n",
       "        vertical-align: middle;\n",
       "    }\n",
       "\n",
       "    .dataframe tbody tr th {\n",
       "        vertical-align: top;\n",
       "    }\n",
       "\n",
       "    .dataframe thead th {\n",
       "        text-align: right;\n",
       "    }\n",
       "</style>\n",
       "<table border=\"1\" class=\"dataframe\">\n",
       "  <thead>\n",
       "    <tr style=\"text-align: right;\">\n",
       "      <th></th>\n",
       "      <th>movie</th>\n",
       "      <th>production_budget</th>\n",
       "      <th>domestic_gross</th>\n",
       "      <th>worldwide_gross</th>\n",
       "      <th>release_year</th>\n",
       "      <th>release_month</th>\n",
       "    </tr>\n",
       "    <tr>\n",
       "      <th>id</th>\n",
       "      <th></th>\n",
       "      <th></th>\n",
       "      <th></th>\n",
       "      <th></th>\n",
       "      <th></th>\n",
       "      <th></th>\n",
       "    </tr>\n",
       "  </thead>\n",
       "  <tbody>\n",
       "    <tr>\n",
       "      <th>1</th>\n",
       "      <td>Avatar</td>\n",
       "      <td>425000000</td>\n",
       "      <td>760507625</td>\n",
       "      <td>2776345279</td>\n",
       "      <td>2009</td>\n",
       "      <td>12</td>\n",
       "    </tr>\n",
       "    <tr>\n",
       "      <th>2</th>\n",
       "      <td>Pirates of the Caribbean: On Stranger Tides</td>\n",
       "      <td>410600000</td>\n",
       "      <td>241063875</td>\n",
       "      <td>1045663875</td>\n",
       "      <td>2011</td>\n",
       "      <td>5</td>\n",
       "    </tr>\n",
       "    <tr>\n",
       "      <th>3</th>\n",
       "      <td>Dark Phoenix</td>\n",
       "      <td>350000000</td>\n",
       "      <td>42762350</td>\n",
       "      <td>149762350</td>\n",
       "      <td>2019</td>\n",
       "      <td>6</td>\n",
       "    </tr>\n",
       "  </tbody>\n",
       "</table>\n",
       "</div>"
      ],
      "text/plain": [
       "                                          movie  production_budget  \\\n",
       "id                                                                   \n",
       "1                                        Avatar          425000000   \n",
       "2   Pirates of the Caribbean: On Stranger Tides          410600000   \n",
       "3                                  Dark Phoenix          350000000   \n",
       "\n",
       "    domestic_gross  worldwide_gross  release_year  release_month  \n",
       "id                                                                \n",
       "1        760507625       2776345279          2009             12  \n",
       "2        241063875       1045663875          2011              5  \n",
       "3         42762350        149762350          2019              6  "
      ]
     },
     "execution_count": 36,
     "metadata": {},
     "output_type": "execute_result"
    }
   ],
   "source": [
    "# Removing the commas and dollar signs from the columns\n",
    "\n",
    "TN_df['production_budget'] = TN_df['production_budget'].replace('[\\$,]','', regex=True)\n",
    "TN_df['worldwide_gross'] = TN_df['worldwide_gross'].replace('[\\$,]','', regex=True)\n",
    "TN_df['domestic_gross'] = TN_df['domestic_gross'].replace('[\\$,]','', regex=True)\n",
    "\n",
    "# Converting the columns into integers\n",
    "TN_df['production_budget'] = TN_df['production_budget'].astype(\"int64\")\n",
    "TN_df['worldwide_gross'] = TN_df['worldwide_gross'].astype(\"int64\")\n",
    "TN_df['domestic_gross'] = TN_df['domestic_gross'].astype(\"int64\")\n",
    "\n",
    "# Previewing the results, looking at the first 3 rows\n",
    "TN_df.head(3)"
   ]
  },
  {
   "cell_type": "markdown",
   "id": "bff80364-15e5-49da-be94-4d88f98076a7",
   "metadata": {},
   "source": [
    "The data showing that there were movies that did not generate any revenue at all could be a sign that data was entered incorrectly. Hence we shall drop all rows where the world_wide gross is 0."
   ]
  },
  {
   "cell_type": "code",
   "execution_count": 37,
   "id": "a00922de-39a2-44aa-9d19-97e875012f25",
   "metadata": {},
   "outputs": [],
   "source": [
    "# Retaining rows where the values in the world_wide gross is greater than zero\n",
    "TN_df = TN_df[TN_df['worldwide_gross'] > 0]\n",
    "\n",
    "# checking that the zero values have been dropped.\n",
    "assert (TN_df['worldwide_gross'] == 0).sum() == 0\n"
   ]
  },
  {
   "cell_type": "markdown",
   "id": "15e667b4-d848-4b4e-aae9-5615f33e41ba",
   "metadata": {},
   "source": [
    "Creating a profit column to allow us to access the profitability of each movie.\n",
    "\n",
    "\n"
   ]
  },
  {
   "cell_type": "code",
   "execution_count": 38,
   "id": "c6d75eb8-7dc7-4f2d-8d9d-d79f6ccd393e",
   "metadata": {},
   "outputs": [
    {
     "data": {
      "text/html": [
       "<div>\n",
       "<style scoped>\n",
       "    .dataframe tbody tr th:only-of-type {\n",
       "        vertical-align: middle;\n",
       "    }\n",
       "\n",
       "    .dataframe tbody tr th {\n",
       "        vertical-align: top;\n",
       "    }\n",
       "\n",
       "    .dataframe thead th {\n",
       "        text-align: right;\n",
       "    }\n",
       "</style>\n",
       "<table border=\"1\" class=\"dataframe\">\n",
       "  <thead>\n",
       "    <tr style=\"text-align: right;\">\n",
       "      <th></th>\n",
       "      <th>movie</th>\n",
       "      <th>production_budget</th>\n",
       "      <th>domestic_gross</th>\n",
       "      <th>worldwide_gross</th>\n",
       "      <th>release_year</th>\n",
       "      <th>release_month</th>\n",
       "      <th>profit</th>\n",
       "    </tr>\n",
       "    <tr>\n",
       "      <th>id</th>\n",
       "      <th></th>\n",
       "      <th></th>\n",
       "      <th></th>\n",
       "      <th></th>\n",
       "      <th></th>\n",
       "      <th></th>\n",
       "      <th></th>\n",
       "    </tr>\n",
       "  </thead>\n",
       "  <tbody>\n",
       "    <tr>\n",
       "      <th>1</th>\n",
       "      <td>Avatar</td>\n",
       "      <td>425000000</td>\n",
       "      <td>760507625</td>\n",
       "      <td>2776345279</td>\n",
       "      <td>2009</td>\n",
       "      <td>12</td>\n",
       "      <td>2351345279</td>\n",
       "    </tr>\n",
       "    <tr>\n",
       "      <th>2</th>\n",
       "      <td>Pirates of the Caribbean: On Stranger Tides</td>\n",
       "      <td>410600000</td>\n",
       "      <td>241063875</td>\n",
       "      <td>1045663875</td>\n",
       "      <td>2011</td>\n",
       "      <td>5</td>\n",
       "      <td>635063875</td>\n",
       "    </tr>\n",
       "    <tr>\n",
       "      <th>3</th>\n",
       "      <td>Dark Phoenix</td>\n",
       "      <td>350000000</td>\n",
       "      <td>42762350</td>\n",
       "      <td>149762350</td>\n",
       "      <td>2019</td>\n",
       "      <td>6</td>\n",
       "      <td>-200237650</td>\n",
       "    </tr>\n",
       "    <tr>\n",
       "      <th>4</th>\n",
       "      <td>Avengers: Age of Ultron</td>\n",
       "      <td>330600000</td>\n",
       "      <td>459005868</td>\n",
       "      <td>1403013963</td>\n",
       "      <td>2015</td>\n",
       "      <td>5</td>\n",
       "      <td>1072413963</td>\n",
       "    </tr>\n",
       "    <tr>\n",
       "      <th>5</th>\n",
       "      <td>Star Wars Ep. VIII: The Last Jedi</td>\n",
       "      <td>317000000</td>\n",
       "      <td>620181382</td>\n",
       "      <td>1316721747</td>\n",
       "      <td>2017</td>\n",
       "      <td>12</td>\n",
       "      <td>999721747</td>\n",
       "    </tr>\n",
       "  </tbody>\n",
       "</table>\n",
       "</div>"
      ],
      "text/plain": [
       "                                          movie  production_budget  \\\n",
       "id                                                                   \n",
       "1                                        Avatar          425000000   \n",
       "2   Pirates of the Caribbean: On Stranger Tides          410600000   \n",
       "3                                  Dark Phoenix          350000000   \n",
       "4                       Avengers: Age of Ultron          330600000   \n",
       "5             Star Wars Ep. VIII: The Last Jedi          317000000   \n",
       "\n",
       "    domestic_gross  worldwide_gross  release_year  release_month      profit  \n",
       "id                                                                            \n",
       "1        760507625       2776345279          2009             12  2351345279  \n",
       "2        241063875       1045663875          2011              5   635063875  \n",
       "3         42762350        149762350          2019              6  -200237650  \n",
       "4        459005868       1403013963          2015              5  1072413963  \n",
       "5        620181382       1316721747          2017             12   999721747  "
      ]
     },
     "execution_count": 38,
     "metadata": {},
     "output_type": "execute_result"
    }
   ],
   "source": [
    "# Creating a profit column by subtracting the  production_budget from the worldwide_gross\n",
    "TN_df[\"profit\"] = (TN_df['worldwide_gross'] - TN_df['production_budget'])\n",
    "\n",
    "# preview of the resultant dataframe\n",
    "TN_df.head()\n"
   ]
  },
  {
   "cell_type": "code",
   "execution_count": 39,
   "id": "6007dcea-3de5-4bd1-816c-30bc99c646e9",
   "metadata": {},
   "outputs": [
    {
     "name": "stdout",
     "output_type": "stream",
     "text": [
      "No infinite values detected in production_budget.\n"
     ]
    }
   ],
   "source": [
    "if np.isinf(TN_df['production_budget']).any():\n",
    "    print(\"Infinite values detected in production_budget. Replacing with NaN.\")\n",
    "    TN_df['production_budget'].replace([np.inf, -np.inf], np.nan, inplace=True)\n",
    "    TN_df.dropna(subset=['production_budget'], inplace=True)\n",
    "else:\n",
    "    print(\"No infinite values detected in production_budget.\")\n"
   ]
  },
  {
   "cell_type": "markdown",
   "id": "f875f687-be6f-4f74-aa9e-704c19c16606",
   "metadata": {},
   "source": [
    "# Exploratory Data Analysis"
   ]
  },
  {
   "cell_type": "markdown",
   "id": "0f0a0d18-6349-4187-b339-8c1663f8d50b",
   "metadata": {},
   "source": [
    "## Univariate Analysis"
   ]
  },
  {
   "cell_type": "markdown",
   "id": "e5ef1ac0-dae4-4eed-ae70-df79535abf85",
   "metadata": {},
   "source": [
    "### Production budget<br>\n",
    "A univariate analysis of the production budget will help provide a clear picture of the budget distribution within the film industry."
   ]
  },
  {
   "cell_type": "code",
   "execution_count": 44,
   "id": "c1a56a09-1087-4107-89c2-7fab4528eca9",
   "metadata": {},
   "outputs": [
    {
     "data": {
      "image/png": "[encoded data removed]",
      "text/plain": [
       "<Figure size 640x480 with 1 Axes>"
      ]
     },
     "metadata": {},
     "output_type": "display_data"
    }
   ],
   "source": [
    "# Histogram\n",
    "sns.histplot(TN_df['production_budget'], bins=30, kde=True)\n",
    "plt.title('Distribution of Production Budget')\n",
    "plt.xlabel('Production Budget')\n",
    "plt.ylabel('Frequency');"
   ]
  },
  {
   "cell_type": "markdown",
   "id": "dc488445-7263-4c45-86e1-62fa29b306f2",
   "metadata": {},
   "source": [
    "# Bivariate analysis"
   ]
  },
  {
   "cell_type": "markdown",
   "id": "3184ea7d-da44-4dcf-b0b2-9fd6b38cbc62",
   "metadata": {},
   "source": [
    "### Production Budget vs Profit<br>\n",
    "This analysis directly shows how investment (budget) translates into financial returns (profit), and will help inform future budget allocation decisions."
   ]
  },
  {
   "cell_type": "code",
   "execution_count": 73,
   "id": "7f0fbe0d-fdac-4c64-9216-5c54c87a7f29",
   "metadata": {},
   "outputs": [
    {
     "data": {
      "image/png": "[encoded data removed]",
      "text/plain": [
       "<Figure size 1000x600 with 1 Axes>"
      ]
     },
     "metadata": {},
     "output_type": "display_data"
    }
   ],
   "source": [
    "# Creating the plot\n",
    "plt.figure(figsize=(10, 6))\n",
    "sns.scatterplot(x='production_budget', y='profit', data=TN_df)\n",
    "plt.title('PRODUCTION BUDGET VS PROFIT')\n",
    "plt.xlabel('PRODUCTION BUDGET')\n",
    "plt.ylabel('PROFIT');\n",
    "\n",
    "# Displaying the plot\n",
    "plt.show()"
   ]
  },
  {
   "cell_type": "markdown",
   "id": "ff6377ea-5a66-40ab-bcef-34431dbf5983",
   "metadata": {},
   "source": [
    "From the plot you can see that as the production budget increases the profit tends to increase as well. As the budget continues to increase, the frequency  declines, showing that High-budget productions are much less common."
   ]
  },
  {
   "cell_type": "markdown",
   "id": "5efd78fd-861b-4caf-88ea-045f227faf7b",
   "metadata": {},
   "source": [
    "# Release month vs profit"
   ]
  },
  {
   "cell_type": "markdown",
   "id": "1636150a-d319-47a4-ba7a-ccc5f7d763d7",
   "metadata": {},
   "source": [
    "This analysis may help investors make informed decisions about when to release films for potential profit maximization."
   ]
  },
  {
   "cell_type": "code",
   "execution_count": 71,
   "id": "5cadff2c-6042-4ffa-94ee-d7febf0a6826",
   "metadata": {},
   "outputs": [
    {
     "data": {
      "image/png": "[encoded data removed]",
      "text/plain": [
       "<Figure size 1000x600 with 1 Axes>"
      ]
     },
     "metadata": {},
     "output_type": "display_data"
    }
   ],
   "source": [
    "# Aggregating profit by release month\n",
    "monthly_profit = TN_df.groupby('release_month')['profit'].mean().reset_index()\n",
    "\n",
    "# Plotting the aggregated data\n",
    "plt.figure(figsize=(10, 6))\n",
    "sns.barplot(x='release_month', y='profit', data=monthly_profit,)\n",
    "plt.title('Average Profit by Release Month')\n",
    "plt.xlabel('Release Month')\n",
    "plt.ylabel('Average Profit')\n",
    "\n",
    "# Displaying the plot\n",
    "plt.show()\n"
   ]
  },
  {
   "cell_type": "markdown",
   "id": "21b429ce-c758-4c9a-a2e1-2ed3accc5b1d",
   "metadata": {},
   "source": [
    "The highest average profits appear to be in months 5 (May), 6 (June), and 7 (July), with May being the peak. This suggests that summer releases tend to be more profitable on average.\n",
    "There are noticeable increases in months 11 (November) and 12 (December), indicating higher profitability during the holiday season."
   ]
  },
  {
   "cell_type": "markdown",
   "id": "56428ff8-d90f-4ce0-850d-80d5ddfb6bc1",
   "metadata": {},
   "source": [
    "# Mulitivariate analysis"
   ]
  },
  {
   "cell_type": "markdown",
   "id": "97fb64e4-f43b-4f51-a2e5-71bfcced523d",
   "metadata": {},
   "source": [
    "### Production Budget, Worlwide Gross and Profit"
   ]
  },
  {
   "cell_type": "markdown",
   "id": "94cffc55-474a-4101-876d-32ff0f3f5846",
   "metadata": {},
   "source": [
    "An analysis into production Budget, Worldwide Gross and Profit is an excellent starting point for deeper financial analysis and can inform high-level strategic decisions about budget allocation and financial expectations. "
   ]
  },
  {
   "cell_type": "code",
   "execution_count": 70,
   "id": "8e9cbd98-bb73-4e0e-a4a9-dab97426fc53",
   "metadata": {},
   "outputs": [
    {
     "data": {
      "image/png": "[encoded data removed]",
      "text/plain": [
       "<Figure size 1000x800 with 2 Axes>"
      ]
     },
     "metadata": {},
     "output_type": "display_data"
    }
   ],
   "source": [
    "# Selecting the columns of interest\n",
    "columns_of_interest = ['production_budget', 'worldwide_gross', 'profit']\n",
    "\n",
    "# Creating a subset of the DataFrame with the specified columns\n",
    "Heatmap_df = TN_df[columns_of_interest]\n",
    "\n",
    "# Computing the correlation matrix\n",
    "correlation_matrix = Heatmap_df.corr()\n",
    "\n",
    "# Plotting the heatmap\n",
    "plt.figure(figsize=(10, 8))\n",
    "sns.heatmap(correlation_matrix, annot=True, fmt=\".2f\", cmap=\"coolwarm\", linewidths=.5, vmin=-1, vmax=1)\n",
    "plt.title('Correlation Heatmap of Production Budget, Worldwide Gross, and Profit')\n",
    "plt.show()"
   ]
  },
  {
   "cell_type": "markdown",
   "id": "555573d8-bff3-4b66-b955-590bb40c45ea",
   "metadata": {},
   "source": [
    "Production Budget vs. Worldwide Gross:<br>\n",
    "Production budget and worldwide gross show a high positive correlation of approximately 0.75.\n",
    "This means that as the production budget increases, the worldwide gross tends to increase as well. In other words, investing more in production often leads to higher global revenue.<br>\n",
    "Worldwide Gross vs. Profit:<br>\n",
    "Worldwide gross and profit display an even stronger positive correlation of approximately 0.98.\n",
    "This suggests that higher worldwide gross is strongly associated with higher profit. When a film performs well globally, it tends to generate more profit.<br>\n",
    "Production Budget vs. Profit:<br>\n",
    "There’s a moderate positive correlation of approximately 0.61 between production budget and profit.\n",
    "Increasing the production budget may lead to increased profits due to this association."
   ]
  },
  {
   "cell_type": "code",
   "execution_count": null,
   "id": "d0af6a7c-2851-4b06-b709-6d10a693e0be",
   "metadata": {},
   "outputs": [],
   "source": []
  }
 ],
 "metadata": {
  "kernelspec": {
   "display_name": "Python 3 (ipykernel)",
   "language": "python",
   "name": "python3"
  },
  "language_info": {
   "codemirror_mode": {
    "name": "ipython",
    "version": 3
   },
   "file_extension": ".py",
   "mimetype": "text/x-python",
   "name": "python",
   "nbconvert_exporter": "python",
   "pygments_lexer": "ipython3",
   "version": "3.11.9"
  }
 },
 "nbformat": 4,
 "nbformat_minor": 5
}
