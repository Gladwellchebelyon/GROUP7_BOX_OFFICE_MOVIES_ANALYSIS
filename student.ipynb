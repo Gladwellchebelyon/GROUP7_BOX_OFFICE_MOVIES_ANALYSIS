{
 "cells": [
  {
   "cell_type": "markdown",
   "id": "eeda07cc-a117-451d-b622-cc0ba9245afa",
   "metadata": {},
   "source": [
    "## `im.db` Data Base Data Cleaning"
   ]
  },
  {
   "cell_type": "code",
   "execution_count": 1,
   "id": "3a213c79-caa4-4246-a18e-0518965bdea6",
   "metadata": {},
   "outputs": [],
   "source": [
    "# Import the necessary libraries\n",
    "import sqlite3\n",
    "import pandas as pd"
   ]
  },
  {
   "cell_type": "markdown",
   "id": "761a23b4-ec6b-4fd3-bad1-41ba61b92569",
   "metadata": {},
   "source": [
    "- **Connecting to SQLite Database:** Establishe a connection to an SQLite database stored in the file named \"im.db\". The `sqlite3.connect()` function returns a connection object that allows interaction with the database.\n",
    "\n",
    "- **Reading Data from CSV:** Read data from a CSV file named \"bom.movie_gross.csv\" and stores it in the DataFrame `bomdf`."
   ]
  },
  {
   "cell_type": "code",
   "execution_count": 2,
   "id": "dc4078cf-08ad-4f5f-9c74-c0915adfc57e",
   "metadata": {},
   "outputs": [],
   "source": [
    "# Connecting to SQLite Database\n",
    "conn = sqlite3.connect('./Data/im.db')\n",
    "# Reading Data from CSV\n",
    "bomdf = pd.read_csv(\"./Data/bom.movie_gross.csv\")"
   ]
  },
  {
   "cell_type": "markdown",
   "id": "ae6401a7-2065-407c-a73f-f40097d8af42",
   "metadata": {},
   "source": [
    "- Retrieve information about the database schema from the `sqlite_master` table. It includes details about tables, views, and other database objects. "
   ]
  },
  {
   "cell_type": "code",
   "execution_count": 3,
   "id": "549bf01f-81b2-4918-87d7-d9c5490bc30d",
   "metadata": {},
   "outputs": [
    {
     "data": {
      "text/html": [
       "<div>\n",
       "<style scoped>\n",
       "    .dataframe tbody tr th:only-of-type {\n",
       "        vertical-align: middle;\n",
       "    }\n",
       "\n",
       "    .dataframe tbody tr th {\n",
       "        vertical-align: top;\n",
       "    }\n",
       "\n",
       "    .dataframe thead th {\n",
       "        text-align: right;\n",
       "    }\n",
       "</style>\n",
       "<table border=\"1\" class=\"dataframe\">\n",
       "  <thead>\n",
       "    <tr style=\"text-align: right;\">\n",
       "      <th></th>\n",
       "      <th>type</th>\n",
       "      <th>name</th>\n",
       "      <th>tbl_name</th>\n",
       "      <th>rootpage</th>\n",
       "      <th>sql</th>\n",
       "    </tr>\n",
       "  </thead>\n",
       "  <tbody>\n",
       "    <tr>\n",
       "      <th>0</th>\n",
       "      <td>table</td>\n",
       "      <td>movie_basics</td>\n",
       "      <td>movie_basics</td>\n",
       "      <td>2</td>\n",
       "      <td>CREATE TABLE \"movie_basics\" (\\n\"movie_id\" TEXT...</td>\n",
       "    </tr>\n",
       "    <tr>\n",
       "      <th>1</th>\n",
       "      <td>table</td>\n",
       "      <td>directors</td>\n",
       "      <td>directors</td>\n",
       "      <td>3</td>\n",
       "      <td>CREATE TABLE \"directors\" (\\n\"movie_id\" TEXT,\\n...</td>\n",
       "    </tr>\n",
       "    <tr>\n",
       "      <th>2</th>\n",
       "      <td>table</td>\n",
       "      <td>known_for</td>\n",
       "      <td>known_for</td>\n",
       "      <td>4</td>\n",
       "      <td>CREATE TABLE \"known_for\" (\\n\"person_id\" TEXT,\\...</td>\n",
       "    </tr>\n",
       "    <tr>\n",
       "      <th>3</th>\n",
       "      <td>table</td>\n",
       "      <td>movie_akas</td>\n",
       "      <td>movie_akas</td>\n",
       "      <td>5</td>\n",
       "      <td>CREATE TABLE \"movie_akas\" (\\n\"movie_id\" TEXT,\\...</td>\n",
       "    </tr>\n",
       "    <tr>\n",
       "      <th>4</th>\n",
       "      <td>table</td>\n",
       "      <td>movie_ratings</td>\n",
       "      <td>movie_ratings</td>\n",
       "      <td>6</td>\n",
       "      <td>CREATE TABLE \"movie_ratings\" (\\n\"movie_id\" TEX...</td>\n",
       "    </tr>\n",
       "    <tr>\n",
       "      <th>5</th>\n",
       "      <td>table</td>\n",
       "      <td>persons</td>\n",
       "      <td>persons</td>\n",
       "      <td>7</td>\n",
       "      <td>CREATE TABLE \"persons\" (\\n\"person_id\" TEXT,\\n ...</td>\n",
       "    </tr>\n",
       "    <tr>\n",
       "      <th>6</th>\n",
       "      <td>table</td>\n",
       "      <td>principals</td>\n",
       "      <td>principals</td>\n",
       "      <td>8</td>\n",
       "      <td>CREATE TABLE \"principals\" (\\n\"movie_id\" TEXT,\\...</td>\n",
       "    </tr>\n",
       "    <tr>\n",
       "      <th>7</th>\n",
       "      <td>table</td>\n",
       "      <td>writers</td>\n",
       "      <td>writers</td>\n",
       "      <td>9</td>\n",
       "      <td>CREATE TABLE \"writers\" (\\n\"movie_id\" TEXT,\\n  ...</td>\n",
       "    </tr>\n",
       "  </tbody>\n",
       "</table>\n",
       "</div>"
      ],
      "text/plain": [
       "    type           name       tbl_name  rootpage  \\\n",
       "0  table   movie_basics   movie_basics         2   \n",
       "1  table      directors      directors         3   \n",
       "2  table      known_for      known_for         4   \n",
       "3  table     movie_akas     movie_akas         5   \n",
       "4  table  movie_ratings  movie_ratings         6   \n",
       "5  table        persons        persons         7   \n",
       "6  table     principals     principals         8   \n",
       "7  table        writers        writers         9   \n",
       "\n",
       "                                                 sql  \n",
       "0  CREATE TABLE \"movie_basics\" (\\n\"movie_id\" TEXT...  \n",
       "1  CREATE TABLE \"directors\" (\\n\"movie_id\" TEXT,\\n...  \n",
       "2  CREATE TABLE \"known_for\" (\\n\"person_id\" TEXT,\\...  \n",
       "3  CREATE TABLE \"movie_akas\" (\\n\"movie_id\" TEXT,\\...  \n",
       "4  CREATE TABLE \"movie_ratings\" (\\n\"movie_id\" TEX...  \n",
       "5  CREATE TABLE \"persons\" (\\n\"person_id\" TEXT,\\n ...  \n",
       "6  CREATE TABLE \"principals\" (\\n\"movie_id\" TEXT,\\...  \n",
       "7  CREATE TABLE \"writers\" (\\n\"movie_id\" TEXT,\\n  ...  "
      ]
     },
     "execution_count": 3,
     "metadata": {},
     "output_type": "execute_result"
    }
   ],
   "source": [
    "query = \"\"\"\n",
    "    SELECT *\n",
    "    FROM sqlite_master;\n",
    "\"\"\"\n",
    "pd.read_sql(query, conn)"
   ]
  },
  {
   "cell_type": "markdown",
   "id": "2ffb4b40-ac42-42d6-98e4-ccf7c8f16344",
   "metadata": {},
   "source": [
    "Retrieve data from three tables (`movie_basics`, `movie_ratings`, and `movie_akas`) using SQL joins.\n",
    "\n",
    "1. **Tables Involved:**\n",
    "   - `movie_basics`: Contains information about movie titles, release years, runtime, and genres.\n",
    "   - `movie_ratings`: Includes average ratings and the number of votes for each movie.\n",
    "   - `movie_akas`: Provides additional details such as alternative titles, regions, languages, and attributes.\n",
    "\n",
    "2. **SQL Query:**\n",
    "   - The query combines data from these tables using `JOIN` operations based on the common column 'movie_id'.\n",
    "   - It selects specific columns from each table.\n",
    "\n",
    "3. **Result:**\n",
    "   - The retrieved data is stored in the DataFrame 'imdf'."
   ]
  },
  {
   "cell_type": "code",
   "execution_count": 4,
   "id": "d971934b-a94f-4aa8-8242-7af740fce4c0",
   "metadata": {},
   "outputs": [],
   "source": [
    "query = \"\"\"    \n",
    "    SELECT  mb.movie_id, mb.primary_title, mb.original_title, mb.start_year, mb.runtime_minutes, mb.genres, \n",
    "            mr.averagerating, mr.numvotes, \n",
    "            ma.ordering, ma.title, ma.region, ma.language, ma.types, ma.attributes, ma.is_original_title\n",
    "    FROM movie_basics AS mb\n",
    "        JOIN movie_ratings AS mr\n",
    "            ON mb.movie_id = mr.movie_id\n",
    "        JOIN movie_akas AS ma\n",
    "            ON mb.movie_id = ma.movie_id\n",
    "\"\"\"\n",
    "imdf = pd.read_sql(query, conn)"
   ]
  },
  {
   "cell_type": "markdown",
   "id": "f71df66a-77d5-480a-8175-0029ffb23594",
   "metadata": {},
   "source": [
    "Will use `info()` method to get information about the `imdf` Data Frame. Here's a brief summary of the columns:\n",
    "\n",
    "1. `movie_id`: Unique identifier for each movie.\n",
    "2. `primary_title`: The primary title of the movie.\n",
    "3. `original_title`: The original title of the movie.\n",
    "4. `start_year`: The year when the movie was released.\n",
    "5. `runtime_minutes`: Duration of the movie in minutes.\n",
    "6. `genres`: Genre(s) associated with the movie.\n",
    "7. `averagerating`: Average rating given to the movie.\n",
    "8. `numvotes`: Number of votes/ratings received by the movie.\n",
    "9. `ordering`: An ordering quantity of the movies.\n",
    "10. `region`: The region where the movie is relevant.\n",
    "11. `language`: Language(s) in which the movie is available.\n",
    "12. `is_original_title`: Indicates whether the title is the original one."
   ]
  },
  {
   "cell_type": "code",
   "execution_count": 5,
   "id": "041c97fd-f8fa-4326-80d0-47bece149d52",
   "metadata": {},
   "outputs": [
    {
     "name": "stdout",
     "output_type": "stream",
     "text": [
      "<class 'pandas.core.frame.DataFrame'>\n",
      "RangeIndex: 261806 entries, 0 to 261805\n",
      "Data columns (total 15 columns):\n",
      " #   Column             Non-Null Count   Dtype  \n",
      "---  ------             --------------   -----  \n",
      " 0   movie_id           261806 non-null  object \n",
      " 1   primary_title      261806 non-null  object \n",
      " 2   original_title     261806 non-null  object \n",
      " 3   start_year         261806 non-null  int64  \n",
      " 4   runtime_minutes    250553 non-null  float64\n",
      " 5   genres             260621 non-null  object \n",
      " 6   averagerating      261806 non-null  float64\n",
      " 7   numvotes           261806 non-null  int64  \n",
      " 8   ordering           261806 non-null  int64  \n",
      " 9   title              261806 non-null  object \n",
      " 10  region             218341 non-null  object \n",
      " 11  language           37080 non-null   object \n",
      " 12  types              153268 non-null  object \n",
      " 13  attributes         12924 non-null   object \n",
      " 14  is_original_title  261806 non-null  float64\n",
      "dtypes: float64(3), int64(3), object(9)\n",
      "memory usage: 30.0+ MB\n"
     ]
    }
   ],
   "source": [
    "imdf.info()"
   ]
  },
  {
   "cell_type": "markdown",
   "id": "b59946b6-e6e7-41f0-9161-7b18231c87b0",
   "metadata": {},
   "source": [
    "Checking for missing values (nulls) in your DataFrame:\n",
    "\n",
    "1. `runtime_minutes`: There are 11,253 missing values.\n",
    "2. `genres`: There are 1,185 missing values.\n",
    "3. `region`: There are 43,465 missing values.\n",
    "4. `language`: There are 224,726 missing values.\n",
    "5. `types`: There are 108,538 missing values\n",
    "6.  `attributes`: There are 248,882 missing values"
   ]
  },
  {
   "cell_type": "code",
   "execution_count": 6,
   "id": "de5ded58-0e76-4635-8ae3-f31235b2c47f",
   "metadata": {},
   "outputs": [
    {
     "data": {
      "text/plain": [
       "movie_id                  0\n",
       "primary_title             0\n",
       "original_title            0\n",
       "start_year                0\n",
       "runtime_minutes       11253\n",
       "genres                 1185\n",
       "averagerating             0\n",
       "numvotes                  0\n",
       "ordering                  0\n",
       "title                     0\n",
       "region                43465\n",
       "language             224726\n",
       "types                108538\n",
       "attributes           248882\n",
       "is_original_title         0\n",
       "dtype: int64"
      ]
     },
     "execution_count": 6,
     "metadata": {},
     "output_type": "execute_result"
    }
   ],
   "source": [
    "imdf.isnull().sum()"
   ]
  },
  {
   "cell_type": "markdown",
   "id": "5c320734-9e21-4ea8-a812-8745dcfbcc70",
   "metadata": {},
   "source": [
    "Calculating the missing value percentages for each column in the Data Frame:\n",
    "\n",
    "- `movie_id`, `primary_title`, `original_title`, `is_original_title`, `start_year`, and `averagerating` have no missing values (0%).\n",
    "- `runtime_minutes` has 4.3% missing values.\n",
    "- `genres` has 0.45% missing values.\n",
    "- `region` has 16.6% missing values.\n",
    "- `language` has 85.8% missing values.\n",
    "- `types` has 41.5% missing values.\n",
    "- `attributes` has 95.1% missing values."
   ]
  },
  {
   "cell_type": "code",
   "execution_count": 7,
   "id": "a6ac39b3-30f5-4a0e-9482-70121c4d4b87",
   "metadata": {},
   "outputs": [
    {
     "data": {
      "text/plain": [
       "movie_id              0.000000\n",
       "primary_title         0.000000\n",
       "original_title        0.000000\n",
       "start_year            0.000000\n",
       "runtime_minutes       4.298221\n",
       "genres                0.452625\n",
       "averagerating         0.000000\n",
       "numvotes              0.000000\n",
       "ordering              0.000000\n",
       "title                 0.000000\n",
       "region               16.601988\n",
       "language             85.836841\n",
       "types                41.457415\n",
       "attributes           95.063520\n",
       "is_original_title     0.000000\n",
       "dtype: float64"
      ]
     },
     "execution_count": 7,
     "metadata": {},
     "output_type": "execute_result"
    }
   ],
   "source": [
    "imdf.isnull().sum() / len(imdf) *  100"
   ]
  },
  {
   "cell_type": "markdown",
   "id": "3c3c11a8-c999-40f1-b7f5-35cc4cd71a52",
   "metadata": {},
   "source": [
    "Define a Python function `drop_columns_with_missing_values` that does the following:\n",
    "\n",
    "1. Calculates the percentage of missing values for each column in a DataFrame.\n",
    "2. Identifies columns with missing values exceeding the specified threshold (in this case, 10%).\n",
    "3. Drops those columns from the DataFrame.\n",
    "\n",
    "The resulting `imdf` will have columns removed if their missing values exceed the threshold."
   ]
  },
  {
   "cell_type": "code",
   "execution_count": 8,
   "id": "40416a52-9003-4396-8c7f-e9cd1e1dba73",
   "metadata": {},
   "outputs": [],
   "source": [
    "import pandas as pd\n",
    "\n",
    "def drop_columns_with_missing_values(df, threshold=0.1):\n",
    "    # Calculate the percentage of missing values for each column\n",
    "    missing_percent = df.isnull().mean()\n",
    "    \n",
    "    # Identify columns with missing values above the threshold\n",
    "    columns_to_drop = missing_percent[missing_percent >= threshold].index\n",
    "    \n",
    "    # Drop the columns\n",
    "    cleaned_df = df.drop(columns=columns_to_drop)\n",
    "    \n",
    "    return cleaned_df\n",
    "\n",
    "imdf = drop_columns_with_missing_values(imdf, threshold=0.1)"
   ]
  },
  {
   "cell_type": "code",
   "execution_count": 9,
   "id": "8eefeeeb-6193-4a1d-b9ab-d7f2513fe002",
   "metadata": {},
   "outputs": [
    {
     "data": {
      "text/plain": [
       "movie_id             0.000000\n",
       "primary_title        0.000000\n",
       "original_title       0.000000\n",
       "start_year           0.000000\n",
       "runtime_minutes      4.298221\n",
       "genres               0.452625\n",
       "averagerating        0.000000\n",
       "numvotes             0.000000\n",
       "ordering             0.000000\n",
       "title                0.000000\n",
       "is_original_title    0.000000\n",
       "dtype: float64"
      ]
     },
     "execution_count": 9,
     "metadata": {},
     "output_type": "execute_result"
    }
   ],
   "source": [
    "imdf.isnull().sum() / len(imdf) *  100"
   ]
  },
  {
   "cell_type": "markdown",
   "id": "bd4f127c-a1b3-4e1b-8a3f-a2312b8da1bd",
   "metadata": {},
   "source": [
    "Define Python function `impute_missing_values` that imputes missing values in a DataFrame based on column data types:\n",
    "\n",
    "1. Separate columns into numeric and categorical types.\n",
    "2. Impute missing values in numeric columns with the mean.\n",
    "3. Impute missing values in categorical columns with the mode (most frequent value).\n",
    "4. Apply the function to your DataFrame `imdf` to handle missing values."
   ]
  },
  {
   "cell_type": "code",
   "execution_count": 10,
   "id": "04061617-18e3-4782-bc82-4ace11d9785f",
   "metadata": {},
   "outputs": [],
   "source": [
    "import pandas as pd\n",
    "\n",
    "def impute_missing_values(df):\n",
    "    # Separate columns by data type\n",
    "    numeric_cols = df.select_dtypes(include=['float64', 'int64']).columns\n",
    "    categorical_cols = df.select_dtypes(include=['object']).columns\n",
    "    \n",
    "    # Impute numeric columns with mean\n",
    "    for col in numeric_cols:\n",
    "        df[col] = df[col].fillna(df[col].mean())\n",
    "    \n",
    "    # Impute categorical columns with mode\n",
    "    for col in categorical_cols:\n",
    "        df[col] = df[col].fillna(df[col].mode()[0])\n",
    "    \n",
    "    return df\n",
    "imdf = impute_missing_values(imdf)"
   ]
  },
  {
   "cell_type": "markdown",
   "id": "0457ef3f-70ec-4fa1-8780-ca924beef982",
   "metadata": {},
   "source": [
    "Checking for missing value percentages for each column in the dataset:\n",
    "\n",
    "- `movie_id`, `primary_title`, `original_title`, `start_year`, `runtime_minutes`, `genres`, `averagerating`, `numvotes`, `ordering`, `title`, and `is_original_title` have **no missing values** (0%)."
   ]
  },
  {
   "cell_type": "code",
   "execution_count": 11,
   "id": "27582f49-b32c-436a-a845-2c9dc01a11f6",
   "metadata": {},
   "outputs": [
    {
     "data": {
      "text/plain": [
       "movie_id             0.0\n",
       "primary_title        0.0\n",
       "original_title       0.0\n",
       "start_year           0.0\n",
       "runtime_minutes      0.0\n",
       "genres               0.0\n",
       "averagerating        0.0\n",
       "numvotes             0.0\n",
       "ordering             0.0\n",
       "title                0.0\n",
       "is_original_title    0.0\n",
       "dtype: float64"
      ]
     },
     "execution_count": 11,
     "metadata": {},
     "output_type": "execute_result"
    }
   ],
   "source": [
    "imdf.isnull().sum() / len(imdf) *  100"
   ]
  },
  {
   "cell_type": "markdown",
   "id": "a5a3c57a-7fe8-4f49-9493-61dd407c85d5",
   "metadata": {},
   "source": [
    "Is the unique identifier column (`movie_id`) unique? If not what is the sum of duplicates?\n",
    "- The `movie_id` is **not unique** because there are **192,229** duplicate entries in the dataset."
   ]
  },
  {
   "cell_type": "code",
   "execution_count": 12,
   "id": "047ba04b-58d2-415e-9be9-e4c1ceed4df7",
   "metadata": {},
   "outputs": [
    {
     "name": "stdout",
     "output_type": "stream",
     "text": [
      "Is movie_id unique? False\n",
      "Sum of duplicates: 192229\n"
     ]
    }
   ],
   "source": [
    "# Checking if the unique identifier `movie_id` is unique\n",
    "isunique = imdf['movie_id'].is_unique\n",
    "\n",
    "# Calculating the sum of duplicates\n",
    "sumofduplicates = imdf.duplicated('movie_id').sum()\n",
    "\n",
    "print(f\"Is movie_id unique? {isunique}\")\n",
    "print(f\"Sum of duplicates: {sumofduplicates}\")"
   ]
  },
  {
   "cell_type": "markdown",
   "id": "dddef938-216c-42ee-862f-2f0ae510b21f",
   "metadata": {},
   "source": [
    "Checking out the first 10 rows of duplicate entries in the `movie_id` column. These duplicates have similar titles, years, genres, and other attributes."
   ]
  },
  {
   "cell_type": "code",
   "execution_count": 13,
   "id": "4de57f83-e893-4d43-ab42-b80e3f539859",
   "metadata": {},
   "outputs": [
    {
     "data": {
      "text/html": [
       "<div>\n",
       "<style scoped>\n",
       "    .dataframe tbody tr th:only-of-type {\n",
       "        vertical-align: middle;\n",
       "    }\n",
       "\n",
       "    .dataframe tbody tr th {\n",
       "        vertical-align: top;\n",
       "    }\n",
       "\n",
       "    .dataframe thead th {\n",
       "        text-align: right;\n",
       "    }\n",
       "</style>\n",
       "<table border=\"1\" class=\"dataframe\">\n",
       "  <thead>\n",
       "    <tr style=\"text-align: right;\">\n",
       "      <th></th>\n",
       "      <th>movie_id</th>\n",
       "      <th>primary_title</th>\n",
       "      <th>original_title</th>\n",
       "      <th>start_year</th>\n",
       "      <th>runtime_minutes</th>\n",
       "      <th>genres</th>\n",
       "      <th>averagerating</th>\n",
       "      <th>numvotes</th>\n",
       "      <th>ordering</th>\n",
       "      <th>title</th>\n",
       "      <th>is_original_title</th>\n",
       "    </tr>\n",
       "  </thead>\n",
       "  <tbody>\n",
       "    <tr>\n",
       "      <th>1</th>\n",
       "      <td>tt0063540</td>\n",
       "      <td>Sunghursh</td>\n",
       "      <td>Sunghursh</td>\n",
       "      <td>2013</td>\n",
       "      <td>175.0</td>\n",
       "      <td>Action,Crime,Drama</td>\n",
       "      <td>7.0</td>\n",
       "      <td>77</td>\n",
       "      <td>2</td>\n",
       "      <td>Sunghursh</td>\n",
       "      <td>1.0</td>\n",
       "    </tr>\n",
       "    <tr>\n",
       "      <th>2</th>\n",
       "      <td>tt0063540</td>\n",
       "      <td>Sunghursh</td>\n",
       "      <td>Sunghursh</td>\n",
       "      <td>2013</td>\n",
       "      <td>175.0</td>\n",
       "      <td>Action,Crime,Drama</td>\n",
       "      <td>7.0</td>\n",
       "      <td>77</td>\n",
       "      <td>3</td>\n",
       "      <td>Sunghursh</td>\n",
       "      <td>0.0</td>\n",
       "    </tr>\n",
       "    <tr>\n",
       "      <th>3</th>\n",
       "      <td>tt0063540</td>\n",
       "      <td>Sunghursh</td>\n",
       "      <td>Sunghursh</td>\n",
       "      <td>2013</td>\n",
       "      <td>175.0</td>\n",
       "      <td>Action,Crime,Drama</td>\n",
       "      <td>7.0</td>\n",
       "      <td>77</td>\n",
       "      <td>4</td>\n",
       "      <td>Sunghursh</td>\n",
       "      <td>0.0</td>\n",
       "    </tr>\n",
       "    <tr>\n",
       "      <th>4</th>\n",
       "      <td>tt0063540</td>\n",
       "      <td>Sunghursh</td>\n",
       "      <td>Sunghursh</td>\n",
       "      <td>2013</td>\n",
       "      <td>175.0</td>\n",
       "      <td>Action,Crime,Drama</td>\n",
       "      <td>7.0</td>\n",
       "      <td>77</td>\n",
       "      <td>5</td>\n",
       "      <td>Sungharsh</td>\n",
       "      <td>0.0</td>\n",
       "    </tr>\n",
       "    <tr>\n",
       "      <th>6</th>\n",
       "      <td>tt0066787</td>\n",
       "      <td>One Day Before the Rainy Season</td>\n",
       "      <td>Ashad Ka Ek Din</td>\n",
       "      <td>2019</td>\n",
       "      <td>114.0</td>\n",
       "      <td>Biography,Drama</td>\n",
       "      <td>7.2</td>\n",
       "      <td>43</td>\n",
       "      <td>2</td>\n",
       "      <td>Ashad Ka Ek Din</td>\n",
       "      <td>0.0</td>\n",
       "    </tr>\n",
       "    <tr>\n",
       "      <th>7</th>\n",
       "      <td>tt0066787</td>\n",
       "      <td>One Day Before the Rainy Season</td>\n",
       "      <td>Ashad Ka Ek Din</td>\n",
       "      <td>2019</td>\n",
       "      <td>114.0</td>\n",
       "      <td>Biography,Drama</td>\n",
       "      <td>7.2</td>\n",
       "      <td>43</td>\n",
       "      <td>3</td>\n",
       "      <td>One Monsoon Day</td>\n",
       "      <td>0.0</td>\n",
       "    </tr>\n",
       "    <tr>\n",
       "      <th>8</th>\n",
       "      <td>tt0066787</td>\n",
       "      <td>One Day Before the Rainy Season</td>\n",
       "      <td>Ashad Ka Ek Din</td>\n",
       "      <td>2019</td>\n",
       "      <td>114.0</td>\n",
       "      <td>Biography,Drama</td>\n",
       "      <td>7.2</td>\n",
       "      <td>43</td>\n",
       "      <td>4</td>\n",
       "      <td>Ashad Ka Ek Din</td>\n",
       "      <td>1.0</td>\n",
       "    </tr>\n",
       "    <tr>\n",
       "      <th>10</th>\n",
       "      <td>tt0069049</td>\n",
       "      <td>The Other Side of the Wind</td>\n",
       "      <td>The Other Side of the Wind</td>\n",
       "      <td>2018</td>\n",
       "      <td>122.0</td>\n",
       "      <td>Drama</td>\n",
       "      <td>6.9</td>\n",
       "      <td>4517</td>\n",
       "      <td>2</td>\n",
       "      <td>The Other Side of the Wind</td>\n",
       "      <td>0.0</td>\n",
       "    </tr>\n",
       "    <tr>\n",
       "      <th>11</th>\n",
       "      <td>tt0069049</td>\n",
       "      <td>The Other Side of the Wind</td>\n",
       "      <td>The Other Side of the Wind</td>\n",
       "      <td>2018</td>\n",
       "      <td>122.0</td>\n",
       "      <td>Drama</td>\n",
       "      <td>6.9</td>\n",
       "      <td>4517</td>\n",
       "      <td>3</td>\n",
       "      <td>The Other Side of the Wind</td>\n",
       "      <td>0.0</td>\n",
       "    </tr>\n",
       "    <tr>\n",
       "      <th>12</th>\n",
       "      <td>tt0069049</td>\n",
       "      <td>The Other Side of the Wind</td>\n",
       "      <td>The Other Side of the Wind</td>\n",
       "      <td>2018</td>\n",
       "      <td>122.0</td>\n",
       "      <td>Drama</td>\n",
       "      <td>6.9</td>\n",
       "      <td>4517</td>\n",
       "      <td>4</td>\n",
       "      <td>L'altra faccia del vento</td>\n",
       "      <td>0.0</td>\n",
       "    </tr>\n",
       "  </tbody>\n",
       "</table>\n",
       "</div>"
      ],
      "text/plain": [
       "     movie_id                    primary_title              original_title  \\\n",
       "1   tt0063540                        Sunghursh                   Sunghursh   \n",
       "2   tt0063540                        Sunghursh                   Sunghursh   \n",
       "3   tt0063540                        Sunghursh                   Sunghursh   \n",
       "4   tt0063540                        Sunghursh                   Sunghursh   \n",
       "6   tt0066787  One Day Before the Rainy Season             Ashad Ka Ek Din   \n",
       "7   tt0066787  One Day Before the Rainy Season             Ashad Ka Ek Din   \n",
       "8   tt0066787  One Day Before the Rainy Season             Ashad Ka Ek Din   \n",
       "10  tt0069049       The Other Side of the Wind  The Other Side of the Wind   \n",
       "11  tt0069049       The Other Side of the Wind  The Other Side of the Wind   \n",
       "12  tt0069049       The Other Side of the Wind  The Other Side of the Wind   \n",
       "\n",
       "    start_year  runtime_minutes              genres  averagerating  numvotes  \\\n",
       "1         2013            175.0  Action,Crime,Drama            7.0        77   \n",
       "2         2013            175.0  Action,Crime,Drama            7.0        77   \n",
       "3         2013            175.0  Action,Crime,Drama            7.0        77   \n",
       "4         2013            175.0  Action,Crime,Drama            7.0        77   \n",
       "6         2019            114.0     Biography,Drama            7.2        43   \n",
       "7         2019            114.0     Biography,Drama            7.2        43   \n",
       "8         2019            114.0     Biography,Drama            7.2        43   \n",
       "10        2018            122.0               Drama            6.9      4517   \n",
       "11        2018            122.0               Drama            6.9      4517   \n",
       "12        2018            122.0               Drama            6.9      4517   \n",
       "\n",
       "    ordering                       title  is_original_title  \n",
       "1          2                   Sunghursh                1.0  \n",
       "2          3                   Sunghursh                0.0  \n",
       "3          4                   Sunghursh                0.0  \n",
       "4          5                   Sungharsh                0.0  \n",
       "6          2             Ashad Ka Ek Din                0.0  \n",
       "7          3             One Monsoon Day                0.0  \n",
       "8          4             Ashad Ka Ek Din                1.0  \n",
       "10         2  The Other Side of the Wind                0.0  \n",
       "11         3  The Other Side of the Wind                0.0  \n",
       "12         4    L'altra faccia del vento                0.0  "
      ]
     },
     "execution_count": 13,
     "metadata": {},
     "output_type": "execute_result"
    }
   ],
   "source": [
    "imdf[imdf.duplicated('movie_id')].head(10)"
   ]
  },
  {
   "cell_type": "markdown",
   "id": "6a37bed8-02da-4ab1-8868-43874cafd8ed",
   "metadata": {},
   "source": [
    "Droping duplicate rows in the DataFrame based on the `movie_id` column.\n",
    "1. Use `imdf.drop_duplicates(subset=['movie_id'])` to remove duplicate rows based on the unique identifier (`movie_id`).\n",
    "2. Check if any duplicates remain using `imdf[imdf.duplicated('movie_id')].head(10)`."
   ]
  },
  {
   "cell_type": "code",
   "execution_count": 14,
   "id": "0e528917-7e07-4d99-b418-b0149343a8b8",
   "metadata": {},
   "outputs": [
    {
     "data": {
      "text/html": [
       "<div>\n",
       "<style scoped>\n",
       "    .dataframe tbody tr th:only-of-type {\n",
       "        vertical-align: middle;\n",
       "    }\n",
       "\n",
       "    .dataframe tbody tr th {\n",
       "        vertical-align: top;\n",
       "    }\n",
       "\n",
       "    .dataframe thead th {\n",
       "        text-align: right;\n",
       "    }\n",
       "</style>\n",
       "<table border=\"1\" class=\"dataframe\">\n",
       "  <thead>\n",
       "    <tr style=\"text-align: right;\">\n",
       "      <th></th>\n",
       "      <th>movie_id</th>\n",
       "      <th>primary_title</th>\n",
       "      <th>original_title</th>\n",
       "      <th>start_year</th>\n",
       "      <th>runtime_minutes</th>\n",
       "      <th>genres</th>\n",
       "      <th>averagerating</th>\n",
       "      <th>numvotes</th>\n",
       "      <th>ordering</th>\n",
       "      <th>title</th>\n",
       "      <th>is_original_title</th>\n",
       "    </tr>\n",
       "  </thead>\n",
       "  <tbody>\n",
       "  </tbody>\n",
       "</table>\n",
       "</div>"
      ],
      "text/plain": [
       "Empty DataFrame\n",
       "Columns: [movie_id, primary_title, original_title, start_year, runtime_minutes, genres, averagerating, numvotes, ordering, title, is_original_title]\n",
       "Index: []"
      ]
     },
     "execution_count": 14,
     "metadata": {},
     "output_type": "execute_result"
    }
   ],
   "source": [
    "# Drop duplicates based on 'movie_id'\n",
    "imdf = imdf.drop_duplicates(subset=['movie_id'])\n",
    "\n",
    "# Check for anymore duplicates\n",
    "imdf[imdf.duplicated('movie_id')].head(10)"
   ]
  },
  {
   "cell_type": "markdown",
   "id": "b4033d3f-6217-446e-abfb-73782e29b1d4",
   "metadata": {},
   "source": [
    "- Rounding off the 'runtime_minutes' column to two decimal places. To ensures that the runtime values are concise and easier to work with.\n",
    "- Displays the first few rows of the modified column."
   ]
  },
  {
   "cell_type": "code",
   "execution_count": 15,
   "id": "34879bed-3edf-447b-aac2-49e47e6a4ee9",
   "metadata": {},
   "outputs": [
    {
     "data": {
      "text/plain": [
       "0     175.00\n",
       "5     114.00\n",
       "9     122.00\n",
       "22    100.11\n",
       "25     80.00\n",
       "Name: runtime_minutes, dtype: float64"
      ]
     },
     "execution_count": 15,
     "metadata": {},
     "output_type": "execute_result"
    }
   ],
   "source": [
    "# Rounding off into two decimal places\n",
    "imdf['runtime_minutes'] = imdf['runtime_minutes'].round(2)\n",
    "imdf['runtime_minutes'].head()"
   ]
  },
  {
   "cell_type": "markdown",
   "id": "ae7d5700-c840-4e7d-be40-e850515ac718",
   "metadata": {},
   "source": [
    "Check a summary of statistical information for the `runtime_minutes` column.\n",
    "\n",
    "- `count`: The total number of non-missing values in the column.\n",
    "- `mean`: The average runtime in minutes.\n",
    "- `std`: The standard deviation, indicating the variability of runtime values.\n",
    "- `min`: The minimum runtime value.\n",
    "- `25%`, `50%`, and `75%`: The quartiles (25th, 50th, and 75th percentiles) of the data.\n",
    "- `max`: The maximum runtime value."
   ]
  },
  {
   "cell_type": "code",
   "execution_count": 16,
   "id": "d7fa2f17-d0c0-4446-bb6c-ae3142970bc5",
   "metadata": {},
   "outputs": [
    {
     "data": {
      "text/plain": [
       "count    69577.00000\n",
       "mean        95.17542\n",
       "std        203.37579\n",
       "min          3.00000\n",
       "25%         83.00000\n",
       "50%         93.00000\n",
       "75%        101.00000\n",
       "max      51420.00000\n",
       "Name: runtime_minutes, dtype: float64"
      ]
     },
     "execution_count": 16,
     "metadata": {},
     "output_type": "execute_result"
    }
   ],
   "source": [
    "imdf['runtime_minutes'].describe()"
   ]
  },
  {
   "cell_type": "markdown",
   "id": "6eba688e-f381-4b5a-90b6-689ed0969507",
   "metadata": {},
   "source": [
    "Filter the `imdf` DataFrame to include only rows where the `runtime_minutes` fall within the range of 40 to 200 minutes. This ensures that you're working with movies that have reasonable runtime durations."
   ]
  },
  {
   "cell_type": "code",
   "execution_count": 17,
   "id": "c58f90a5-4b72-433f-bad4-4eab7161e0ad",
   "metadata": {},
   "outputs": [],
   "source": [
    "# Filtering to a range of 40 to 200 minute\n",
    "imdf = imdf[(imdf['runtime_minutes'] >= 40) & (imdf['runtime_minutes'] <= 200)]"
   ]
  },
  {
   "cell_type": "markdown",
   "id": "9df94dcb-6049-4d9d-8703-0cf1a7542395",
   "metadata": {},
   "source": [
    "Creating a box plot of the `runtime_minutes` column.\n",
    "\n",
    "The `boxplot` function generates a box plot for the 'runtime_minutes' data. The vertical (`vert=True`) orientation shows the distribution of runtime values."
   ]
  },
  {
   "cell_type": "code",
   "execution_count": 18,
   "id": "e1dd00e3-5e8a-47e3-ae0f-3e66a56ccd1c",
   "metadata": {},
   "outputs": [
    {
     "data": {
      "image/png": "[encoded data removed]",
      "text/plain": [
       "<Figure size 576x432 with 1 Axes>"
      ]
     },
     "metadata": {
      "needs_background": "light"
     },
     "output_type": "display_data"
    }
   ],
   "source": [
    "import matplotlib.pyplot as plt\n",
    "\n",
    "plt.figure(figsize=(8, 6))\n",
    "plt.boxplot(imdf['runtime_minutes'], vert=True)\n",
    "plt.xlabel('Runtime Minutes')\n",
    "plt.title('Box Plot of Runtime Minutes')\n",
    "plt.show()"
   ]
  },
  {
   "cell_type": "code",
   "execution_count": 19,
   "id": "1eba2611-9d60-4526-b0ac-43ee2d4b5241",
   "metadata": {},
   "outputs": [
    {
     "data": {
      "text/plain": [
       "genres\n",
       "Drama           11546\n",
       "Documentary      9179\n",
       "Comedy           5155\n",
       "Comedy,Drama     2502\n",
       "Horror           2465\n",
       "Name: count, dtype: int64"
      ]
     },
     "execution_count": 19,
     "metadata": {},
     "output_type": "execute_result"
    }
   ],
   "source": [
    "imdf['genres'].value_counts().head()"
   ]
  },
  {
   "cell_type": "markdown",
   "id": "3336d664-1c1b-4d69-943e-7198e4b5179f",
   "metadata": {},
   "source": [
    "Creating binary columns (genre indicators) based on the unique genres in the `genres` column.\n",
    "\n",
    "1. **Extract Unique Genres:**\n",
    "   - Split the column into individual genres using `.str.split(',')` and then explode the resulting list to get unique genre values.\n",
    "\n",
    "2. **Create Binary Columns:**\n",
    "   - For each unique genre, check if that genre is present in the original column using `.str.contains(genre)`.\n",
    "   - The result is converted to 1 (if the movie belongs to that genre) or 0 (otherwise)."
   ]
  },
  {
   "cell_type": "code",
   "execution_count": 20,
   "id": "ea01a11b-b11e-4b47-b72f-38e07ce14910",
   "metadata": {},
   "outputs": [],
   "source": [
    "unique_genres = imdf['genres'].str.split(',').explode().unique()\n",
    "\n",
    "for genre in unique_genres:\n",
    "    imdf[f'is_{genre}'] = imdf['genres'].str.contains(genre).astype(int)"
   ]
  },
  {
   "cell_type": "markdown",
   "id": "e15306ec-1843-42b4-b810-4adc8e76f85f",
   "metadata": {},
   "source": [
    "- Convert the `averagerating` column to integer data type (removing any decimal places). To ensure that the ratings are represented as whole numbers (integers).\n",
    "\n",
    "- The `.describe()` method provides summary statistics for the modified column. It includes count, mean, standard deviation, minimum, quartiles, and maximum."
   ]
  },
  {
   "cell_type": "code",
   "execution_count": 21,
   "id": "f704680a-57f4-44a1-b23b-65853c52e5d3",
   "metadata": {},
   "outputs": [
    {
     "data": {
      "text/html": [
       "<div>\n",
       "<style scoped>\n",
       "    .dataframe tbody tr th:only-of-type {\n",
       "        vertical-align: middle;\n",
       "    }\n",
       "\n",
       "    .dataframe tbody tr th {\n",
       "        vertical-align: top;\n",
       "    }\n",
       "\n",
       "    .dataframe thead th {\n",
       "        text-align: right;\n",
       "    }\n",
       "</style>\n",
       "<table border=\"1\" class=\"dataframe\">\n",
       "  <thead>\n",
       "    <tr style=\"text-align: right;\">\n",
       "      <th></th>\n",
       "      <th>averagerating</th>\n",
       "      <th>is_original_title</th>\n",
       "      <th>ordering</th>\n",
       "      <th>numvotes</th>\n",
       "    </tr>\n",
       "  </thead>\n",
       "  <tbody>\n",
       "    <tr>\n",
       "      <th>count</th>\n",
       "      <td>69171.000000</td>\n",
       "      <td>69171.000000</td>\n",
       "      <td>69171.0</td>\n",
       "      <td>6.917100e+04</td>\n",
       "    </tr>\n",
       "    <tr>\n",
       "      <th>mean</th>\n",
       "      <td>5.863946</td>\n",
       "      <td>0.145234</td>\n",
       "      <td>1.0</td>\n",
       "      <td>3.755296e+03</td>\n",
       "    </tr>\n",
       "    <tr>\n",
       "      <th>std</th>\n",
       "      <td>1.484655</td>\n",
       "      <td>0.352339</td>\n",
       "      <td>0.0</td>\n",
       "      <td>3.128829e+04</td>\n",
       "    </tr>\n",
       "    <tr>\n",
       "      <th>min</th>\n",
       "      <td>1.000000</td>\n",
       "      <td>0.000000</td>\n",
       "      <td>1.0</td>\n",
       "      <td>5.000000e+00</td>\n",
       "    </tr>\n",
       "    <tr>\n",
       "      <th>25%</th>\n",
       "      <td>5.000000</td>\n",
       "      <td>0.000000</td>\n",
       "      <td>1.0</td>\n",
       "      <td>1.500000e+01</td>\n",
       "    </tr>\n",
       "    <tr>\n",
       "      <th>50%</th>\n",
       "      <td>6.000000</td>\n",
       "      <td>0.000000</td>\n",
       "      <td>1.0</td>\n",
       "      <td>5.400000e+01</td>\n",
       "    </tr>\n",
       "    <tr>\n",
       "      <th>75%</th>\n",
       "      <td>7.000000</td>\n",
       "      <td>0.000000</td>\n",
       "      <td>1.0</td>\n",
       "      <td>3.130000e+02</td>\n",
       "    </tr>\n",
       "    <tr>\n",
       "      <th>max</th>\n",
       "      <td>10.000000</td>\n",
       "      <td>1.000000</td>\n",
       "      <td>1.0</td>\n",
       "      <td>1.841066e+06</td>\n",
       "    </tr>\n",
       "  </tbody>\n",
       "</table>\n",
       "</div>"
      ],
      "text/plain": [
       "       averagerating  is_original_title  ordering      numvotes\n",
       "count   69171.000000       69171.000000   69171.0  6.917100e+04\n",
       "mean        5.863946           0.145234       1.0  3.755296e+03\n",
       "std         1.484655           0.352339       0.0  3.128829e+04\n",
       "min         1.000000           0.000000       1.0  5.000000e+00\n",
       "25%         5.000000           0.000000       1.0  1.500000e+01\n",
       "50%         6.000000           0.000000       1.0  5.400000e+01\n",
       "75%         7.000000           0.000000       1.0  3.130000e+02\n",
       "max        10.000000           1.000000       1.0  1.841066e+06"
      ]
     },
     "execution_count": 21,
     "metadata": {},
     "output_type": "execute_result"
    }
   ],
   "source": [
    "imdf['averagerating'] = imdf['averagerating'].astype('int')\n",
    "imdf['is_original_title'] = imdf['is_original_title'].astype('int')\n",
    "imdf['numvotes'] = imdf['numvotes'].astype('int')\n",
    "imdf[['averagerating', 'is_original_title', 'ordering', 'numvotes']].describe()"
   ]
  },
  {
   "cell_type": "markdown",
   "id": "2222ecbd-0d92-4815-b1ba-568720795dae",
   "metadata": {},
   "source": [
    "Permanently drop the columns `primary_title`, `original_title`, and `title` from the DataFrame."
   ]
  },
  {
   "cell_type": "code",
   "execution_count": 22,
   "id": "98783db2-fd8b-4780-a8ea-b37aa2d687dc",
   "metadata": {},
   "outputs": [],
   "source": [
    "imdf.drop(['primary_title', 'original_title', 'title'], axis=1, inplace=True)"
   ]
  },
  {
   "cell_type": "markdown",
   "id": "194abf87-14e1-4411-a95b-558ebfc137ec",
   "metadata": {},
   "source": [
    "## Gladwell (Replace with the name of your file)"
   ]
  },
  {
   "cell_type": "markdown",
   "id": "89cce123-eae2-4890-a38f-b863cb8f19cc",
   "metadata": {},
   "source": [
    "## Monica (Replace with the name of your file)"
   ]
  },
  {
   "cell_type": "markdown",
   "id": "f40bf0e0-88dc-4e4b-8dfb-dfe16636e71f",
   "metadata": {},
   "source": [
    "## Kelvin (Replace with the name of your file)"
   ]
  },
  {
   "cell_type": "code",
   "execution_count": null,
   "id": "bed68f2e-dafe-4cab-8119-1c6f989dffa1",
   "metadata": {},
   "outputs": [],
   "source": []
  }
 ],
 "metadata": {
  "kernelspec": {
   "display_name": "Python 3 (ipykernel)",
   "language": "python",
   "name": "python3"
  },
  "language_info": {
   "codemirror_mode": {
    "name": "ipython",
    "version": 3
   },
   "file_extension": ".py",
   "mimetype": "text/x-python",
   "name": "python",
   "nbconvert_exporter": "python",
   "pygments_lexer": "ipython3",
   "version": "3.10.12"
  }
 },
 "nbformat": 4,
 "nbformat_minor": 5
}
